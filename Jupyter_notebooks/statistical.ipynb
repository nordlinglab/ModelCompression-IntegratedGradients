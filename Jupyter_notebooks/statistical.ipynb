{
 "cells": [
  {
   "cell_type": "code",
   "execution_count": 1,
   "id": "50546ecd-576d-47b7-a8fc-3310b41ac0d2",
   "metadata": {},
   "outputs": [],
   "source": [
    "import numpy as np\n",
    "import matplotlib.pyplot as plt"
   ]
  },
  {
   "cell_type": "code",
   "execution_count": 2,
   "id": "fca3f0f8-0316-4236-b1a3-100f68e7fa52",
   "metadata": {},
   "outputs": [],
   "source": [
    "mnist_acc = [-0.2, -0.54, -0.71, 0.01]\n",
    "svhn_acc = [-0.97, -1.87, -0.21, -1.56, 0.18, -0.06]\n",
    "# cifar10_acc = [-1.78, 4.21, 0.37, -3.36, -0.5, -8.63, 0.3, \n",
    "#                -0.33, -0.96, -1.17, -0.73, 0.14, -1.43, -0.3, -0.93]\n",
    "# cifar100_acc = [-1.2, -1.01, -0.74, 1.01, -3.03, -3.37, -1.33, -2.75,\n",
    "#                 -4.21, -0.13, 0.12, 1.54, -7.11, -3.54, -1.61, 0.86, -2.79, -1.9, -0.72]\n",
    "# imagenet_acc = [-0.37, -6.49, -4.60, -2.19, -0.60, -2.40, -0.36]\n",
    "\n",
    "cifar10_acc = [-1.78, 4.21, 0.37, -3.36, -0.5, -8.63, 0.3, \n",
    "               -0.33, -0.96, -1.17, -0.73, 0.14, -0.3, -0.93]\n",
    "cifar100_acc = [-1.2, -1.01, -0.74, 1.01, -3.37, -1.33, -2.75,\n",
    "                -4.21, 1.54, -7.11, -3.54, -1.61, 0.86, -0.72]\n",
    "imagenet_acc = [-0.37, -6.49, -2.19, -0.60, -2.40, -0.36]\n",
    "\n",
    "\n",
    "celeba_acc = [-1.56]\n",
    "cuhk03_acc = [-1]\n",
    "market1501_acc = [-3.10, -0.1, -2.4]\n",
    "tinyimagenet_acc = [-2.61, -2.92]\n",
    "caltech256_acc = [-2.94]\n",
    "duke_acc = [0, -3.3]"
   ]
  },
  {
   "cell_type": "code",
   "execution_count": 3,
   "id": "681f309a-9637-4cc8-8334-09e6391142db",
   "metadata": {},
   "outputs": [],
   "source": [
    "mnist = [15.7, 32.23, 3.88, 127.02]\n",
    "svhn = [20.14, 45.25, 3.35, 11, 19.8, 3.29]\n",
    "\n",
    "cifar10 = [6, 20.8, 3.26, 1.91, 1.90, 11, 10.28, \n",
    "               20.53, 19.35, 20.7, 0, 1.91, 3.19, 3.52]\n",
    "cifar100 = [3.26, 1.9, 2.06, 3.95, 1.91, 1.9, 5.02,\n",
    "                4.64, 1.8, 52.2, 42.94, 0, 1.67, 3.19]\n",
    "imagenet = [2.35, 36.67, 1.9, 0, 1.9, 2.35]\n",
    "\n",
    "# cifar10 = [6, 20.8, 3.26, 1.91, 1.90, 11, 10.28, \n",
    "#                20.53, 19.35, 20.7, 0, 1.91, 3.19, 3.52]\n",
    "# cifar100 = [3.26, 1.9, 2.06, 3.95, 1.91, 1.9, 5.02,\n",
    "#                 4.64, 1.8, 52.2, 42.94, 0, 1.67, 6.30, 3.19]\n",
    "# imagenet = [2.35, 36.67, 1.9, 0, 1.9, 2.35]\n",
    "\n",
    "celeba = [3.2]\n",
    "cuhk03 = [1.36]\n",
    "market1501 = [1.36, 8.38, 15.53]\n",
    "tinyimagenet = [1.89, 3.29]\n",
    "caltech256 = [3.12]\n",
    "duke = [8.38, 15.53]"
   ]
  },
  {
   "cell_type": "code",
   "execution_count": 4,
   "id": "273e3cef-7fe1-4fe2-b8ed-fa90a88625c0",
   "metadata": {},
   "outputs": [],
   "source": [
    "ds_acc = {'mnist_acc': mnist_acc, 'svhn_acc': svhn_acc, 'cifar10_acc': cifar10_acc, 'cifar100_acc': cifar100_acc, 'imagenet_acc': imagenet_acc, 'celeba_acc': celeba_acc, 'cuhk03_acc': cuhk03_acc, 'market1501_acc': market1501_acc,'tinyimagenet_acc': tinyimagenet_acc, 'caltech256_acc': caltech256_acc, 'duke_acc': duke_acc, 'mnist': mnist, 'svhn': svhn, 'cifar10':cifar10, 'cifar100': cifar100, 'imagenet': imagenet, 'celeba':celeba, 'cuhk03': cuhk03, 'market1501': market1501,'tinyimagenet': tinyimagenet, 'caltech256': caltech256, 'duke': duke}"
   ]
  },
  {
   "cell_type": "code",
   "execution_count": 18,
   "id": "b06f81d9",
   "metadata": {},
   "outputs": [
    {
     "name": "stdout",
     "output_type": "stream",
     "text": [
      "mnist_acc 4\n",
      "svhn_acc 6\n",
      "cifar10_acc 14\n",
      "cifar100_acc 14\n",
      "imagenet_acc 6\n",
      "celeba_acc 1\n",
      "cuhk03_acc 1\n",
      "market1501_acc 3\n",
      "tinyimagenet_acc 2\n",
      "caltech256_acc 1\n",
      "duke_acc 2\n",
      "mnist 4\n",
      "svhn 6\n",
      "cifar10 14\n",
      "cifar100 14\n",
      "imagenet 6\n",
      "celeba 1\n",
      "cuhk03 1\n",
      "market1501 3\n",
      "tinyimagenet 2\n",
      "caltech256 1\n",
      "duke 2\n"
     ]
    }
   ],
   "source": [
    "for i in ds_acc.keys():\n",
    "    print(i, len(ds_acc[i]))"
   ]
  },
  {
   "cell_type": "code",
   "execution_count": 5,
   "id": "b31a27a7-d978-483c-98da-ab3eb5a12420",
   "metadata": {
    "scrolled": true
   },
   "outputs": [
    {
     "name": "stdout",
     "output_type": "stream",
     "text": [
      "mnist_acc: \n",
      " mean: -0.36 | median: -0.37\n",
      "svhn_acc: \n",
      " mean: -0.75 | median: -0.59\n",
      "cifar10_acc: \n",
      " mean: -0.98 | median: -0.61\n",
      "cifar100_acc: \n",
      " mean: -1.73 | median: -1.27\n",
      "imagenet_acc: \n",
      " mean: -2.07 | median: -1.40\n",
      "celeba_acc: \n",
      " mean: -1.56 | median: -1.56\n",
      "cuhk03_acc: \n",
      " mean: -1.00 | median: -1.00\n",
      "market1501_acc: \n",
      " mean: -1.87 | median: -2.40\n",
      "tinyimagenet_acc: \n",
      " mean: -2.76 | median: -2.76\n",
      "caltech256_acc: \n",
      " mean: -2.94 | median: -2.94\n",
      "duke_acc: \n",
      " mean: -1.65 | median: -1.65\n",
      "mnist: \n",
      " mean: 44.71 | median: 23.96\n",
      "svhn: \n",
      " mean: 17.14 | median: 15.40\n",
      "cifar10: \n",
      " mean: 8.88 | median: 4.76\n",
      "cifar100: \n",
      " mean: 9.03 | median: 2.62\n",
      "imagenet: \n",
      " mean: 7.53 | median: 2.12\n",
      "celeba: \n",
      " mean: 3.20 | median: 3.20\n",
      "cuhk03: \n",
      " mean: 1.36 | median: 1.36\n",
      "market1501: \n",
      " mean: 8.42 | median: 8.38\n",
      "tinyimagenet: \n",
      " mean: 2.59 | median: 2.59\n",
      "caltech256: \n",
      " mean: 3.12 | median: 3.12\n",
      "duke: \n",
      " mean: 11.96 | median: 11.96\n"
     ]
    }
   ],
   "source": [
    "for i in ds_acc:\n",
    "    array = np.array(ds_acc[i])\n",
    "    print(f\"{i}: \\n mean: {array.mean():.2f} | median: {np.median(array):.2f}\")"
   ]
  },
  {
   "cell_type": "code",
   "execution_count": 6,
   "id": "86973524-ede1-4476-876b-bf00fde64799",
   "metadata": {},
   "outputs": [],
   "source": [
    "accuracies = np.array([])\n",
    "cf = np.array([])"
   ]
  },
  {
   "cell_type": "code",
   "execution_count": 7,
   "id": "05ba09f9-2086-4e15-9cad-a9dc64826bdb",
   "metadata": {
    "scrolled": true
   },
   "outputs": [],
   "source": [
    "counter = 0\n",
    "for i in ds_acc:\n",
    "    counter += 1\n",
    "    array = np.array(ds_acc[i])\n",
    "    if counter <= 11:\n",
    "        accuracies = np.concatenate((accuracies, array), axis=None)\n",
    "    else:\n",
    "        cf = np.concatenate((cf, array), axis=None)"
   ]
  },
  {
   "cell_type": "code",
   "execution_count": 8,
   "id": "4391e15f-ac84-4675-bd3b-590304253dc1",
   "metadata": {},
   "outputs": [
    {
     "data": {
      "text/plain": [
       "54"
      ]
     },
     "execution_count": 8,
     "metadata": {},
     "output_type": "execute_result"
    }
   ],
   "source": [
    "len(accuracies)"
   ]
  },
  {
   "cell_type": "code",
   "execution_count": 9,
   "id": "1b7730a0-2132-4213-8f84-c9f48f1a7c82",
   "metadata": {},
   "outputs": [
    {
     "data": {
      "text/plain": [
       "54"
      ]
     },
     "execution_count": 9,
     "metadata": {},
     "output_type": "execute_result"
    }
   ],
   "source": [
    "len(cf)"
   ]
  },
  {
   "cell_type": "code",
   "execution_count": 10,
   "id": "b171922e-1756-4be2-b895-6e757d36a0ac",
   "metadata": {},
   "outputs": [
    {
     "name": "stdout",
     "output_type": "stream",
     "text": [
      "[-0.2  -0.54 -0.71  0.01 -0.97 -1.87 -0.21 -1.56  0.18 -0.06 -1.78  4.21\n",
      "  0.37 -3.36 -0.5  -8.63  0.3  -0.33 -0.96 -1.17 -0.73  0.14 -0.3  -0.93\n",
      " -1.2  -1.01 -0.74  1.01 -3.37 -1.33 -2.75 -4.21  1.54 -7.11 -3.54 -1.61\n",
      "  0.86 -0.72 -0.37 -6.49 -2.19 -0.6  -2.4  -0.36 -1.56 -1.   -3.1  -0.1\n",
      " -2.4  -2.61 -2.92 -2.94  0.   -3.3 ]\n"
     ]
    }
   ],
   "source": [
    "print(accuracies)"
   ]
  },
  {
   "cell_type": "code",
   "execution_count": 11,
   "id": "fde7e5fd-26ed-4f53-938d-3d78fae68f56",
   "metadata": {},
   "outputs": [
    {
     "name": "stdout",
     "output_type": "stream",
     "text": [
      "[ 15.7   32.23   3.88 127.02  20.14  45.25   3.35  11.    19.8    3.29\n",
      "   6.    20.8    3.26   1.91   1.9   11.    10.28  20.53  19.35  20.7\n",
      "   0.     1.91   3.19   3.52   3.26   1.9    2.06   3.95   1.91   1.9\n",
      "   5.02   4.64   1.8   52.2   42.94   0.     1.67   3.19   2.35  36.67\n",
      "   1.9    0.     1.9    2.35   3.2    1.36   1.36   8.38  15.53   1.89\n",
      "   3.29   3.12   8.38  15.53]\n"
     ]
    }
   ],
   "source": [
    "print(cf)"
   ]
  },
  {
   "cell_type": "code",
   "execution_count": 12,
   "id": "758e55d3-f68c-45b7-8461-669e3911daa9",
   "metadata": {},
   "outputs": [],
   "source": [
    "import pandas as pd\n",
    "from scipy.stats import pearsonr"
   ]
  },
  {
   "cell_type": "code",
   "execution_count": 13,
   "id": "cb17190f-e5ab-45f8-afaa-f4514853ee5b",
   "metadata": {},
   "outputs": [
    {
     "name": "stdout",
     "output_type": "stream",
     "text": [
      "Pearson's r correlation coefficient: -0.11352021056945545\n",
      "P-value of the correlation: 0.41374135647014165\n"
     ]
    }
   ],
   "source": [
    "# Calculate Pearson's r\n",
    "correlation, p_value = pearsonr(cf, accuracies)\n",
    "\n",
    "print(\"Pearson's r correlation coefficient:\", correlation)\n",
    "print(\"P-value of the correlation:\", p_value)"
   ]
  }
 ],
 "metadata": {
  "kernelspec": {
   "display_name": "torch",
   "language": "python",
   "name": "python3"
  },
  "language_info": {
   "codemirror_mode": {
    "name": "ipython",
    "version": 3
   },
   "file_extension": ".py",
   "mimetype": "text/x-python",
   "name": "python",
   "nbconvert_exporter": "python",
   "pygments_lexer": "ipython3",
   "version": "3.8.19"
  }
 },
 "nbformat": 4,
 "nbformat_minor": 5
}
