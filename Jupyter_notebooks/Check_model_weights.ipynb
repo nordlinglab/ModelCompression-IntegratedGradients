{
 "cells": [
  {
   "cell_type": "code",
   "execution_count": 2,
   "id": "58382f47-07bc-4d19-a149-735dc874a6e8",
   "metadata": {},
   "outputs": [],
   "source": [
    "import torch\n",
    "import numpy as np\n",
    "import pandas as pd\n",
    "from torch.utils.data import DataLoader\n",
    "from torchvision import transforms\n",
    "from torchvision.datasets import CIFAR10\n",
    "import sys\n",
    "sys.path.append(\"../\")\n",
    "from PyTorch_CIFAR10.cifar10_models.mobilenetv2 import mobilenet_v2\n",
    "from PyTorch_CIFAR10.UTILS_TORCH import *"
   ]
  },
  {
   "cell_type": "code",
   "execution_count": 3,
   "id": "fed234c0-e525-4779-99ea-5cb8fa698e0b",
   "metadata": {},
   "outputs": [
    {
     "name": "stdout",
     "output_type": "stream",
     "text": [
      "Currently using: 'cuda'\n"
     ]
    }
   ],
   "source": [
    "device = torch.device(\"cuda\" if torch.cuda.is_available() else \"cpu\")\n",
    "print(f\"Currently using: '{device}'\")"
   ]
  },
  {
   "cell_type": "code",
   "execution_count": 7,
   "id": "b0aa058a-202c-4c01-bb58-f15c54472b74",
   "metadata": {},
   "outputs": [],
   "source": [
    "BATCH_SIZE = 64\n",
    "NUM_WORKERS =16"
   ]
  },
  {
   "cell_type": "code",
   "execution_count": 8,
   "id": "c0315635-e118-4031-b345-ff8b9a07a8bb",
   "metadata": {},
   "outputs": [],
   "source": [
    "transform = transforms.Compose(\n",
    "    [\n",
    "        transforms.ToTensor(),\n",
    "    ]\n",
    ")"
   ]
  },
  {
   "cell_type": "markdown",
   "id": "689b293d-ad07-4935-b189-2b37b9041aec",
   "metadata": {},
   "source": [
    "# Load student data"
   ]
  },
  {
   "cell_type": "code",
   "execution_count": 9,
   "id": "2b4675f5-a56d-4377-a91e-c6fd0cd820ff",
   "metadata": {},
   "outputs": [],
   "source": [
    "test_data = CIFAR10(\n",
    "    root=\"../PyTorch_CIFAR10/data\",\n",
    "    train=False,\n",
    "    download=False,\n",
    "    transform=transform,\n",
    ")\n",
    "\n",
    "test_loader = DataLoader(\n",
    "    test_data,\n",
    "    batch_size=BATCH_SIZE,\n",
    "    shuffle=False,\n",
    "    num_workers=NUM_WORKERS,\n",
    "    pin_memory=False,\n",
    "    persistent_workers=True,\n",
    ")"
   ]
  },
  {
   "cell_type": "markdown",
   "id": "7b895f50-bb2c-4a13-9fbd-b80aaa2d7472",
   "metadata": {
    "jp-MarkdownHeadingCollapsed": true
   },
   "source": [
    "## Ablation"
   ]
  },
  {
   "cell_type": "markdown",
   "id": "aa71ff3f-1255-4dd8-8fd4-706264e45e90",
   "metadata": {
    "jp-MarkdownHeadingCollapsed": true
   },
   "source": [
    "### AT"
   ]
  },
  {
   "cell_type": "code",
   "execution_count": 11,
   "id": "bd3c1a8d-c298-4d9a-a689-294f93476347",
   "metadata": {},
   "outputs": [],
   "source": [
    "ablation_at = ModifiedStudent(mobilenet_v2(pretrained=False))\n",
    "ablation_at.to(device);"
   ]
  },
  {
   "cell_type": "code",
   "execution_count": 20,
   "id": "b5b90e58-2c07-4239-b1cd-daa64bbdf89f",
   "metadata": {},
   "outputs": [],
   "source": [
    "ablation_at_path = \"./../saved_models/ablation/CIFAR10_AT_T1_alpha0_p0_gamma0.8_TestAcc91.58.pt\"\n",
    "ablation_at.load_state_dict(torch.load(ablation_at_path, weights_only=True));"
   ]
  },
  {
   "cell_type": "code",
   "execution_count": 21,
   "id": "e6968e5a-652f-4c6b-9203-b9dbb6b86d2c",
   "metadata": {},
   "outputs": [
    {
     "name": "stdout",
     "output_type": "stream",
     "text": [
      "Accuracy of the model on the Testing images: 91.58 %\n"
     ]
    }
   ],
   "source": [
    "test_model_att(ablation_at, test_loader, device)"
   ]
  },
  {
   "cell_type": "markdown",
   "id": "a525c41f-f501-4391-9ca7-9eaac7fc42ee",
   "metadata": {
    "jp-MarkdownHeadingCollapsed": true
   },
   "source": [
    "### IG & AT"
   ]
  },
  {
   "cell_type": "code",
   "execution_count": 32,
   "id": "e35f74f1-f0ee-474c-9f07-e8d0a6833f1f",
   "metadata": {},
   "outputs": [],
   "source": [
    "ablation_ig_at = ModifiedStudent(mobilenet_v2(pretrained=False))\n",
    "ablation_ig_at.to(device);"
   ]
  },
  {
   "cell_type": "code",
   "execution_count": 35,
   "id": "90c823cd-0ed6-4e62-8d60-336083ecda84",
   "metadata": {},
   "outputs": [],
   "source": [
    "ablation_ig_at_path = \"./../saved_models/ablation/CIFAR10_IG_AT_T1_alpha0_p0.1_gamma0.8_TestAcc91.84.pt\"\n",
    "ablation_ig_at.load_state_dict(torch.load(ablation_ig_at_path, weights_only=True));"
   ]
  },
  {
   "cell_type": "code",
   "execution_count": 36,
   "id": "09b8100e-5716-46ee-8ba8-45b50850ea47",
   "metadata": {},
   "outputs": [
    {
     "name": "stdout",
     "output_type": "stream",
     "text": [
      "Accuracy of the model on the Testing images: 91.84 %\n"
     ]
    }
   ],
   "source": [
    "test_model_att(ablation_ig_at, test_loader, device)"
   ]
  },
  {
   "cell_type": "markdown",
   "id": "4dc7371a-8d47-40f6-a650-201b2c8a628f",
   "metadata": {
    "jp-MarkdownHeadingCollapsed": true
   },
   "source": [
    "### KD & AT"
   ]
  },
  {
   "cell_type": "code",
   "execution_count": 37,
   "id": "d796795a-f151-4c82-9f62-aa56c63c91cd",
   "metadata": {},
   "outputs": [],
   "source": [
    "ablation_kd_at = ModifiedStudent(mobilenet_v2(pretrained=False))\n",
    "ablation_kd_at.to(device);"
   ]
  },
  {
   "cell_type": "code",
   "execution_count": 40,
   "id": "3087b8dd-7fbe-43d4-9279-b1b08033c884",
   "metadata": {},
   "outputs": [],
   "source": [
    "ablation_kd_at_path = \"./../saved_models/ablation/CIFAR10_KD_AT_T2.5_alpha0.01_p0_gamma0.8_TestAcc92.2.pt\"\n",
    "ablation_kd_at.load_state_dict(torch.load(ablation_kd_at_path, weights_only=True));"
   ]
  },
  {
   "cell_type": "code",
   "execution_count": 41,
   "id": "d7a7a479-2981-4703-8bc7-227d9cd9f373",
   "metadata": {},
   "outputs": [
    {
     "name": "stdout",
     "output_type": "stream",
     "text": [
      "Accuracy of the model on the Testing images: 92.2 %\n"
     ]
    }
   ],
   "source": [
    "test_model_att(ablation_kd_at, test_loader, device)"
   ]
  },
  {
   "cell_type": "markdown",
   "id": "f3534043-45a5-4f2f-b6e9-26f38680de47",
   "metadata": {
    "jp-MarkdownHeadingCollapsed": true
   },
   "source": [
    "### KD & IG & AT"
   ]
  },
  {
   "cell_type": "code",
   "execution_count": 42,
   "id": "e2172300-dd76-4ea2-a48d-241f00eacf0c",
   "metadata": {},
   "outputs": [],
   "source": [
    "ablation_kd_ig_at = ModifiedStudent(mobilenet_v2(pretrained=False))\n",
    "ablation_kd_ig_at.to(device);"
   ]
  },
  {
   "cell_type": "code",
   "execution_count": 45,
   "id": "5c7781c7-e109-49a5-be75-dcd24e418f7b",
   "metadata": {},
   "outputs": [],
   "source": [
    "ablation_kd_ig_at_path = \"./../saved_models/ablation/CIFAR10_KD_IG_AT_T2.5_alpha0.01_p0.1_gamma0.8_TestAcc92.42.pt\"\n",
    "ablation_kd_ig_at.load_state_dict(torch.load(ablation_kd_ig_at_path, weights_only=True));"
   ]
  },
  {
   "cell_type": "code",
   "execution_count": 46,
   "id": "c648c718-19a1-4dd0-a48f-8fe776a47177",
   "metadata": {},
   "outputs": [
    {
     "name": "stdout",
     "output_type": "stream",
     "text": [
      "Accuracy of the model on the Testing images: 92.42 %\n"
     ]
    }
   ],
   "source": [
    "test_model_att(ablation_kd_ig_at, test_loader, device)"
   ]
  },
  {
   "cell_type": "markdown",
   "id": "6ec94798-53cb-4637-ba94-78e09dde3fec",
   "metadata": {
    "jp-MarkdownHeadingCollapsed": true
   },
   "source": [
    "### IG"
   ]
  },
  {
   "cell_type": "code",
   "execution_count": 23,
   "id": "c62b5577-003d-4ea5-8d33-7a72edf6b19c",
   "metadata": {},
   "outputs": [],
   "source": [
    "ablation_ig = SmallerMobileNet(mobilenet_v2(pretrained=False))\n",
    "ablation_ig.to(device);"
   ]
  },
  {
   "cell_type": "code",
   "execution_count": 28,
   "id": "3bd2e725-8364-47f7-a5d5-a94bbbcb1c03",
   "metadata": {},
   "outputs": [],
   "source": [
    "ablation_ig_path = \"./../saved_models/ablation/CIFAR10_IG_T1_alpha0_p0.1_gamma0_TestAcc92.01.pt\"\n",
    "ablation_ig.load_state_dict(torch.load(ablation_ig_path, weights_only=True));"
   ]
  },
  {
   "cell_type": "code",
   "execution_count": 29,
   "id": "a6678333-93e7-4234-9c02-b94bc40565f4",
   "metadata": {},
   "outputs": [
    {
     "name": "stdout",
     "output_type": "stream",
     "text": [
      "Accuracy of the model on the Training images: 92.01\n"
     ]
    }
   ],
   "source": [
    "test_model(ablation_ig, test_loader, device)"
   ]
  },
  {
   "cell_type": "markdown",
   "id": "920f3d1f-17a0-4f22-8b0f-0952e8233952",
   "metadata": {
    "jp-MarkdownHeadingCollapsed": true
   },
   "source": [
    "### KD"
   ]
  },
  {
   "cell_type": "code",
   "execution_count": 47,
   "id": "8a4ade67-8d24-4936-bc95-53d7851c6efe",
   "metadata": {},
   "outputs": [],
   "source": [
    "ablation_kd = SmallerMobileNet(mobilenet_v2(pretrained=False))\n",
    "ablation_kd.to(device);"
   ]
  },
  {
   "cell_type": "code",
   "execution_count": 50,
   "id": "a8b8b2ac-c7db-45d4-a66b-7901bfa45e27",
   "metadata": {},
   "outputs": [],
   "source": [
    "ablation_kd_path = \"./../saved_models/ablation/CIFAR10_KD_T2.5_alpha0.01_p0_gamma0_TestAcc92.29.pt\"\n",
    "ablation_kd.load_state_dict(torch.load(ablation_kd_path, weights_only=True));"
   ]
  },
  {
   "cell_type": "code",
   "execution_count": 51,
   "id": "2fe12a89-8cd5-40a7-8778-0c5ee8cc1675",
   "metadata": {},
   "outputs": [
    {
     "name": "stdout",
     "output_type": "stream",
     "text": [
      "Accuracy of the model on the Training images: 92.29\n"
     ]
    }
   ],
   "source": [
    "test_model(ablation_kd, test_loader, device)"
   ]
  },
  {
   "cell_type": "markdown",
   "id": "d8699216-132d-468f-8ebb-4b93e8e99206",
   "metadata": {
    "jp-MarkdownHeadingCollapsed": true
   },
   "source": [
    "### KD & IG \n",
    "(Note: We didn't save the best acc weights, but we do have one set of weights from the 10 runs)"
   ]
  },
  {
   "cell_type": "code",
   "execution_count": 73,
   "id": "d39c0a0d-5dd5-4b04-9df9-23189cdc8de1",
   "metadata": {},
   "outputs": [],
   "source": [
    "ablation_kd_ig = SmallerMobileNet(mobilenet_v2(pretrained=False))\n",
    "ablation_kd_ig.to(device);"
   ]
  },
  {
   "cell_type": "code",
   "execution_count": 74,
   "id": "773dc746-2c55-4cc5-8430-47e200d2ed20",
   "metadata": {},
   "outputs": [],
   "source": [
    "ablation_kd_ig_path = \"./../saved_models/ablation/CIFAR10_KD_IG_T2.5_alpha0.01_p0.1_gamma0_TestAcc92.28.pt\"\n",
    "ablation_kd_ig.load_state_dict(torch.load(ablation_kd_ig_path, weights_only=True));"
   ]
  },
  {
   "cell_type": "code",
   "execution_count": 75,
   "id": "1eafc552-ffcd-4b1b-9eda-f7ab70d38f7b",
   "metadata": {},
   "outputs": [
    {
     "name": "stdout",
     "output_type": "stream",
     "text": [
      "Accuracy of the model on the Training images: 92.28\n"
     ]
    }
   ],
   "source": [
    "test_model(ablation_kd_ig, test_loader, device)"
   ]
  },
  {
   "cell_type": "markdown",
   "id": "521bd5a1-c003-431f-8507-f1e289945d2c",
   "metadata": {
    "jp-MarkdownHeadingCollapsed": true
   },
   "source": [
    "## Monte Carlo"
   ]
  },
  {
   "cell_type": "markdown",
   "id": "c5d52a87-38de-46fd-bcef-a438b503fd11",
   "metadata": {
    "jp-MarkdownHeadingCollapsed": true
   },
   "source": [
    "### Student (best acc)"
   ]
  },
  {
   "cell_type": "code",
   "execution_count": 76,
   "id": "382343a8-31a6-42fd-b7af-a85c1f609838",
   "metadata": {},
   "outputs": [],
   "source": [
    "montecarlo_student = SmallerMobileNet(mobilenet_v2(pretrained=False))\n",
    "montecarlo_student.to(device);"
   ]
  },
  {
   "cell_type": "code",
   "execution_count": 77,
   "id": "88ccfcc3-be0f-4b04-900b-df55a39635be",
   "metadata": {},
   "outputs": [],
   "source": [
    "montecarlo_student_path = \"./../saved_models/montecarlo_weights/CIFAR10-Train80Rand_Student_TestAcc90.73.pt\"\n",
    "montecarlo_student.load_state_dict(torch.load(montecarlo_student_path, weights_only=True));"
   ]
  },
  {
   "cell_type": "code",
   "execution_count": 78,
   "id": "7204c6a0-7169-4007-a00a-72b2e33d5333",
   "metadata": {},
   "outputs": [
    {
     "name": "stdout",
     "output_type": "stream",
     "text": [
      "Accuracy of the model on the Training images: 90.73\n"
     ]
    }
   ],
   "source": [
    "test_model(montecarlo_student, test_loader, device)"
   ]
  },
  {
   "cell_type": "markdown",
   "id": "25312d02-9513-4930-a8c0-30ba1d7daf0b",
   "metadata": {
    "jp-MarkdownHeadingCollapsed": true
   },
   "source": [
    "### KD (best acc)"
   ]
  },
  {
   "cell_type": "code",
   "execution_count": 79,
   "id": "9b2839d6-0830-4500-a8f1-83899d5a4e1d",
   "metadata": {},
   "outputs": [],
   "source": [
    "montecarlo_kd = SmallerMobileNet(mobilenet_v2(pretrained=False))\n",
    "montecarlo_kd.to(device);"
   ]
  },
  {
   "cell_type": "code",
   "execution_count": 80,
   "id": "648bfc27-9a3c-428a-942e-ced9fc790ca9",
   "metadata": {},
   "outputs": [],
   "source": [
    "montecarlo_kd_path = \"./../saved_models/montecarlo_weights/CIFAR10-Train80Rand_KD_T2.5_alpha0.01_p0_gamma0_TestAcc91.37.pt\"\n",
    "montecarlo_kd.load_state_dict(torch.load(montecarlo_kd_path, weights_only=True));"
   ]
  },
  {
   "cell_type": "code",
   "execution_count": 81,
   "id": "7e47b2d3-2f74-498d-9447-94aeec713ac0",
   "metadata": {},
   "outputs": [
    {
     "name": "stdout",
     "output_type": "stream",
     "text": [
      "Accuracy of the model on the Training images: 91.37\n"
     ]
    }
   ],
   "source": [
    "test_model(montecarlo_kd, test_loader, device)"
   ]
  },
  {
   "cell_type": "markdown",
   "id": "f89080c1-2a74-47fe-83ef-abe3128e7502",
   "metadata": {
    "jp-MarkdownHeadingCollapsed": true
   },
   "source": [
    "### KD & IG\n",
    "Note: The weights were saved from 1 out of the 60 runs."
   ]
  },
  {
   "cell_type": "code",
   "execution_count": 86,
   "id": "d00055e1-6d64-49e9-bc81-4aabaa5e39a7",
   "metadata": {},
   "outputs": [],
   "source": [
    "montecarlo_kd_ig = SmallerMobileNet(mobilenet_v2(pretrained=False))\n",
    "montecarlo_kd_ig.to(device);"
   ]
  },
  {
   "cell_type": "code",
   "execution_count": 87,
   "id": "dc506f48-1826-4e04-9f05-865ca4dd60db",
   "metadata": {},
   "outputs": [],
   "source": [
    "montecarlo_kd_ig_path = \"./../saved_models/montecarlo_weights/CIFAR10-Train80Rand_KD_IG_T2.5_alpha0.01_p0.1_gamma0_TestAcc91.39.pt\"\n",
    "montecarlo_kd_ig.load_state_dict(torch.load(montecarlo_kd_ig_path, weights_only=True));"
   ]
  },
  {
   "cell_type": "code",
   "execution_count": 88,
   "id": "83d59e27-0f25-44a7-9200-cb1a20228d40",
   "metadata": {},
   "outputs": [
    {
     "name": "stdout",
     "output_type": "stream",
     "text": [
      "Accuracy of the model on the Training images: 91.39\n"
     ]
    }
   ],
   "source": [
    "test_model(montecarlo_kd_ig, test_loader, device)"
   ]
  },
  {
   "cell_type": "markdown",
   "id": "c9fab27c-5c57-4674-bcb8-266b0c6abdbd",
   "metadata": {
    "jp-MarkdownHeadingCollapsed": true
   },
   "source": [
    "### KD & IG & AT (best acc)"
   ]
  },
  {
   "cell_type": "code",
   "execution_count": 92,
   "id": "f0c75eb3-110a-4210-8a31-26e0991819bb",
   "metadata": {},
   "outputs": [],
   "source": [
    "montecarlo_kd_ig_at = ModifiedStudent(mobilenet_v2(pretrained=False))\n",
    "montecarlo_kd_ig_at.to(device);"
   ]
  },
  {
   "cell_type": "code",
   "execution_count": 96,
   "id": "0bc86cd6-00d4-4630-aac0-6decd7c0f15f",
   "metadata": {},
   "outputs": [],
   "source": [
    "montecarlo_kd_ig_at_path = \"./../saved_models/montecarlo_weights/CIFAR10-Train80Rand_KD_IG_AT_T2.5_alpha0.01_p0.1_gamma0.8_TestAcc91.47.pt\"\n",
    "montecarlo_kd_ig_at.load_state_dict(torch.load(montecarlo_kd_ig_at_path, weights_only=True));"
   ]
  },
  {
   "cell_type": "code",
   "execution_count": 97,
   "id": "f5eaa2ab-a539-41e7-921f-1b88e019c93a",
   "metadata": {},
   "outputs": [
    {
     "name": "stdout",
     "output_type": "stream",
     "text": [
      "Accuracy of the model on the Testing images: 91.47 %\n"
     ]
    }
   ],
   "source": [
    "test_model_att(montecarlo_kd_ig_at, test_loader, device)"
   ]
  }
 ],
 "metadata": {
  "kernelspec": {
   "display_name": "Python 3 (ipykernel)",
   "language": "python",
   "name": "python3"
  },
  "language_info": {
   "codemirror_mode": {
    "name": "ipython",
    "version": 3
   },
   "file_extension": ".py",
   "mimetype": "text/x-python",
   "name": "python",
   "nbconvert_exporter": "python",
   "pygments_lexer": "ipython3",
   "version": "3.10.13"
  }
 },
 "nbformat": 4,
 "nbformat_minor": 5
}
