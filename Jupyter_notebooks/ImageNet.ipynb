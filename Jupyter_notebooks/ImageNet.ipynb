{
 "cells": [
  {
   "cell_type": "code",
   "execution_count": 1,
   "id": "f5596aef-d22e-4e73-a9ad-2ba5bb0967f6",
   "metadata": {},
   "outputs": [],
   "source": [
    "import sys\n",
    "sys.path.append(\"/Users/davidhernandez/Desktop/Nordling_Lab/KD_IG_Code\")\n",
    "import torch\n",
    "import numpy as np\n",
    "import matplotlib.pyplot as plt\n",
    "import pickle\n",
    "import torchvision.transforms as transforms\n",
    "from torch.utils.data import DataLoader, Subset\n",
    "from torchvision.datasets import ImageNet, CIFAR10\n",
    "\n",
    "from PyTorch_CIFAR10.cifar10_models.mobilenetv2 import mobilenet_v2\n",
    "from PyTorch_CIFAR10.UTILS_TORCH import *"
   ]
  },
  {
   "cell_type": "code",
   "execution_count": 2,
   "id": "af6627bb",
   "metadata": {},
   "outputs": [
    {
     "name": "stdout",
     "output_type": "stream",
     "text": [
      "Currently using: 'mps'\n"
     ]
    }
   ],
   "source": [
    "# Check that MPS is available\n",
    "if not torch.backends.mps.is_available():\n",
    "    if not torch.backends.mps.is_built():\n",
    "        print(\"MPS not available because the current PyTorch install was not \"\n",
    "              \"built with MPS enabled.\")\n",
    "    else:\n",
    "        print(\"MPS not available because the current MacOS version is not 12.3+ \"\n",
    "              \"and/or you do not have an MPS-enabled device on this machine.\")\n",
    "else:\n",
    "    device = torch.device(\"mps\")\n",
    "\n",
    "# device = torch.device(\"mps\" if torch.cuda.is_available() else \"cpu\")\n",
    "print(f\"Currently using: '{device}'\")"
   ]
  },
  {
   "cell_type": "markdown",
   "id": "3086a9ac-be3f-4d44-a34e-487dd9624376",
   "metadata": {},
   "source": [
    "# ImageNet"
   ]
  },
  {
   "cell_type": "markdown",
   "id": "e8a2fcf8-ec6a-4407-b1a4-b6b3d6c1dae6",
   "metadata": {
    "jp-MarkdownHeadingCollapsed": true
   },
   "source": [
    "### Functions"
   ]
  },
  {
   "cell_type": "code",
   "execution_count": 3,
   "id": "b7efd7b4-e512-4a89-8ce0-ed07bbb18844",
   "metadata": {},
   "outputs": [],
   "source": [
    "# Assuming your data is in CIFAR-like format (data is flattened)\n",
    "def unpickle(file):\n",
    "    with open(file, \"rb\") as fo:\n",
    "        dict = pickle.load(fo, encoding=\"bytes\")\n",
    "    return dict\n",
    "\n",
    "\n",
    "def parse_class_map(file_path):\n",
    "    \"\"\"\n",
    "    Parses the class map file to get a dictionary mapping ImageNet class ID to the class index.\n",
    "    \"\"\"\n",
    "    class_map = {}\n",
    "    with open(file_path, \"r\") as f:\n",
    "        for line in f:\n",
    "            parts = line.strip().split(\" \", 2)  # Split by first two spaces\n",
    "            class_id = parts[0]  # ImageNet ID (e.g., n01440764)\n",
    "            class_index = int(parts[1])  # Corresponding integer index (e.g., 0)\n",
    "            class_map[class_id] = class_index\n",
    "    return class_map"
   ]
  },
  {
   "cell_type": "markdown",
   "id": "98c0efd3-8ccf-4185-92ea-c849dc2d52b5",
   "metadata": {
    "jp-MarkdownHeadingCollapsed": true
   },
   "source": [
    "### Class Maps"
   ]
  },
  {
   "cell_type": "code",
   "execution_count": 4,
   "id": "848a994f-bde2-4324-911e-3f0d0362bf1c",
   "metadata": {},
   "outputs": [],
   "source": [
    "# Load the class map from map_clsloc.txt\n",
    "class_map = parse_class_map(\"../../../ML/PyTorch_CIFAR10/data/map_clsloc.txt\")"
   ]
  },
  {
   "cell_type": "code",
   "execution_count": 5,
   "id": "c58cf97c-12c9-4610-b041-234e6c38c149",
   "metadata": {},
   "outputs": [],
   "source": [
    "cifar10_imagenet_classes = {\n",
    "    # plane\n",
    "    0: [\n",
    "        \"n02690373\",  # airliner\n",
    "        \"n04552348\",  # warplane\n",
    "        \"n02692877\"   # airship\n",
    "    ],\n",
    "    # car\n",
    "    1: [\n",
    "        \"n04285008\",  # sports_car\n",
    "        \"n03895866\",  # passenger_car\n",
    "        \"n03444034\",  # go_kart\n",
    "        \"n03445924\",  # golf_cart\n",
    "        \"n03977966\",  # police_van\n",
    "        \"n03770679\",  # minivan\n",
    "        \"n03796401\",  # moving_van\n",
    "        \"n03930630\",  # pickup\n",
    "        \"n03777568\",  # model_T\n",
    "        \"n04465501\",  # tractor\n",
    "        \"n02930766\",  # cab\n",
    "        \"n03100240\",  # convertible\n",
    "        \"n03670208\",  # limousine\n",
    "        \"n03594945\",  # jeep\n",
    "    ],\n",
    "    # bird\n",
    "    2: [\n",
    "        \"n01514668\",  # cock\n",
    "        \"n01514859\",  # hen\n",
    "        \"n01833805\",  # hummingbird\n",
    "        \"n01530575\",  # brambling\n",
    "        \"n01531178\",  # goldfinch\n",
    "        \"n01532829\",  # house_finch\n",
    "        \"n01534433\",  # junco\n",
    "        \"n01537544\",  # indigo_bunting\n",
    "        \"n01558993\",  # robin\n",
    "        \"n01560419\",  # bulbul\n",
    "        \"n01580077\",  # jay\n",
    "        \"n01582220\",  # magpie\n",
    "        \"n01592084\",  # chickadee\n",
    "        \"n01601694\",  # water_ouzel\n",
    "        \"n01608432\",  # kite\n",
    "        \"n01614925\",  # bald_eagle\n",
    "        \"n01616318\",  # vulture\n",
    "        \"n01622779\",  # great_grey_owl\n",
    "        \"n01795545\",  # black_grouse\n",
    "        \"n01796340\",  # ptarmigan\n",
    "        \"n01797886\",  # ruffed_grouse\n",
    "        \"n01798484\",  # prairie_chicken\n",
    "        \"n01806143\",  # peacock\n",
    "        \"n01806567\",  # quail\n",
    "        \"n01807496\",  # partridge\n",
    "        \"n01817953\",  # African_grey\n",
    "        \"n01818515\",  # macaw\n",
    "        \"n01819313\",  # sulphur-crested_cockatoo\n",
    "        \"n01820546\",  # lorikeet\n",
    "        \"n01824575\",  # coucal\n",
    "        \"n01828970\",  # bee_eater\n",
    "        \"n01829413\",  # hornbill\n",
    "        \"n01843065\",  # jacamar\n",
    "        \"n01843383\",  # toucan\n",
    "        \"n01847000\",  # drake\n",
    "        \"n01855032\",  # red-breasted_merganser\n",
    "        \"n01855672\",  # goose\n",
    "        \"n01860187\",  # black_swan\n",
    "        \"n02002556\",  # white_stork\n",
    "        \"n02002724\",  # black_stork\n",
    "        \"n02006656\",  # spoonbill\n",
    "        \"n02007558\",  # flamingo\n",
    "        \"n02009912\",  # American_egret\n",
    "        \"n02009229\",  # little_blue_heron\n",
    "        \"n02011460\",  # bittern\n",
    "        \"n02012849\",  # crane\n",
    "        \"n02013706\",  # limpkin\n",
    "        \"n02018207\",  # American_coot\n",
    "        \"n02018795\",  # bustard\n",
    "        \"n02025239\",  # ruddy_turnstone\n",
    "        \"n02027492\",  # red-backed_sandpiper\n",
    "        \"n02028035\",  # redshank\n",
    "        \"n02033041\",  # dowitcher\n",
    "        \"n02037110\",  # oystercatcher\n",
    "        \"n02017213\",  # European_gallinule\n",
    "        \"n02051845\",  # pelican\n",
    "        \"n02056570\",  # king_penguin\n",
    "        \"n02058221\",  # albatross\n",
    "    ],\n",
    "    # cat\n",
    "    3: [\n",
    "        \"n02124075\",  # Egyptian_cat\n",
    "        \"n02123394\",  # persian_cat\n",
    "        \"n02123159\",  # tiger_cat\n",
    "        \"n02123045\",  # tabby_cat\n",
    "        \"n02123597\",  # Siamese_cat\n",
    "    ],\n",
    "    # deer\n",
    "    4: [],  # No direct deer class in ImageNet\n",
    "\n",
    "    # dog\n",
    "    5: [\n",
    "        \"n02110185\",  # Siberian_husky\n",
    "        \"n02110063\",  # malamute\n",
    "        \"n02091244\",  # Ibizan_hound\n",
    "        \"n02091134\",  # whippet\n",
    "        \"n02088364\",  # beagle\n",
    "        \"n02099712\",  # Labrador_retriever\n",
    "        \"n02099429\",  # curly-coated_retriever\n",
    "        \"n02097130\",  # giant_schnauzer\n",
    "        \"n02097209\",  # standard_schnauzer\n",
    "        \"n02098413\",  # Lhasa\n",
    "        \"n02098286\",  # West_Highland_white_terrier\n",
    "        \"n02096177\",  # cairn\n",
    "        \"n02106662\",  # German_shepherd\n",
    "        \"n02099601\",  # golden_retriever\n",
    "        \"n02095570\",  # Lakeland_terrier\n",
    "    ],\n",
    "    \n",
    "    # frog\n",
    "    6: [\n",
    "        \"n01644900\",  # tailed_frog\n",
    "        \"n01641577\",  # bullfrog\n",
    "        \"n01644373\",  # tree_frog\n",
    "        # \"n01667114\",  # mud_turtle\n",
    "    ],\n",
    "\n",
    "    # horse\n",
    "    7: [],  # No direct horse class\n",
    "\n",
    "    # ship\n",
    "    8: [\n",
    "        \"n04612504\",  # yacht\n",
    "        \"n02687172\",  # aircraft_carrier\n",
    "        \"n04147183\",  # schooner\n",
    "        \"n03662601\",  # lifeboat\n",
    "        # \"n04347754\",  # submarine\n",
    "        \"n02951358\",  # canoe\n",
    "    ],\n",
    "\n",
    "    # truck\n",
    "    9: [\n",
    "        \"n04467665\",  # trailer_truck\n",
    "        \"n03417042\",  # garbage_truck\n",
    "    ]\n",
    "}\n"
   ]
  },
  {
   "cell_type": "code",
   "execution_count": 6,
   "id": "e8d4d9d1-f300-4b37-a312-164696586006",
   "metadata": {},
   "outputs": [
    {
     "name": "stdout",
     "output_type": "stream",
     "text": [
      "All desired class IDs found in the class map.\n"
     ]
    }
   ],
   "source": [
    "# Handle missing class IDs\n",
    "missing_class_ids = {}\n",
    "\n",
    "# Step 2: Map desired class IDs to indices and store them as a dictionary\n",
    "desired_class_indices = {}\n",
    "\n",
    "# Iterate over CIFAR-10 categories\n",
    "for cifar10_class, class_ids in cifar10_imagenet_classes.items():\n",
    "    class_indices = []\n",
    "    for class_id in class_ids:\n",
    "        if class_id in class_map:\n",
    "            class_indices.append(class_map[class_id])\n",
    "        else:\n",
    "            # Log missing class IDs for this CIFAR-10 class\n",
    "            if cifar10_class not in missing_class_ids:\n",
    "                missing_class_ids[cifar10_class] = []\n",
    "            missing_class_ids[cifar10_class].append(class_id)\n",
    "    \n",
    "    # Assign the mapped indices to the CIFAR-10 class in the new dictionary\n",
    "    desired_class_indices[cifar10_class] = class_indices\n",
    "\n",
    "# Check for missing class IDs and log them\n",
    "if missing_class_ids:\n",
    "    print(\n",
    "        f\"Warning: The following class IDs were not found in the class map:\\n{missing_class_ids}\"\n",
    "    )\n",
    "else:\n",
    "    print(\"All desired class IDs found in the class map.\")"
   ]
  },
  {
   "cell_type": "code",
   "execution_count": 7,
   "id": "4d9c2d01-e5ed-4d37-b104-9cc6599fe719",
   "metadata": {
    "scrolled": true
   },
   "outputs": [
    {
     "data": {
      "text/plain": [
       "{0: [230, 231, 232],\n",
       " 1: [274, 257, 275, 276, 285, 271, 284, 281, 272, 289, 267, 268, 270, 269],\n",
       " 2: [383,\n",
       "  384,\n",
       "  415,\n",
       "  386,\n",
       "  387,\n",
       "  388,\n",
       "  389,\n",
       "  390,\n",
       "  391,\n",
       "  392,\n",
       "  393,\n",
       "  394,\n",
       "  395,\n",
       "  396,\n",
       "  397,\n",
       "  398,\n",
       "  399,\n",
       "  400,\n",
       "  401,\n",
       "  402,\n",
       "  403,\n",
       "  404,\n",
       "  405,\n",
       "  406,\n",
       "  407,\n",
       "  408,\n",
       "  409,\n",
       "  410,\n",
       "  411,\n",
       "  412,\n",
       "  413,\n",
       "  414,\n",
       "  416,\n",
       "  417,\n",
       "  418,\n",
       "  419,\n",
       "  420,\n",
       "  421,\n",
       "  422,\n",
       "  423,\n",
       "  424,\n",
       "  425,\n",
       "  426,\n",
       "  427,\n",
       "  428,\n",
       "  429,\n",
       "  430,\n",
       "  431,\n",
       "  432,\n",
       "  433,\n",
       "  434,\n",
       "  435,\n",
       "  436,\n",
       "  437,\n",
       "  438,\n",
       "  439,\n",
       "  440,\n",
       "  441],\n",
       " 3: [8, 10, 55, 174, 95],\n",
       " 4: [],\n",
       " 5: [3, 15, 204, 20, 132, 176, 144, 36, 156, 56, 71, 91, 211, 125, 152],\n",
       " 6: [501, 499, 500],\n",
       " 7: [],\n",
       " 8: [240, 246, 221, 238, 239],\n",
       " 9: [283, 280]}"
      ]
     },
     "execution_count": 7,
     "metadata": {},
     "output_type": "execute_result"
    }
   ],
   "source": [
    "desired_class_indices"
   ]
  },
  {
   "cell_type": "markdown",
   "id": "25008a10-27d0-49c0-ab99-5bc54cca4ee3",
   "metadata": {
    "jp-MarkdownHeadingCollapsed": true
   },
   "source": [
    "### Load ImageNet"
   ]
  },
  {
   "cell_type": "code",
   "execution_count": 8,
   "id": "860f5443-eef0-4c37-8269-1b2dad382929",
   "metadata": {},
   "outputs": [],
   "source": [
    "# Load the unpickled data\n",
    "imagenet = unpickle(\"../../../ML/PyTorch_CIFAR10/data/val_data\")\n",
    "\n",
    "# Extract labels and data\n",
    "labels = imagenet[\"labels\"]\n",
    "data = imagenet[\"data\"]  # Assuming the data is in a flattened format"
   ]
  },
  {
   "cell_type": "code",
   "execution_count": 9,
   "id": "5788982b-6b5e-493d-af99-4336df3f9838",
   "metadata": {},
   "outputs": [
    {
     "data": {
      "text/plain": [
       "50000"
      ]
     },
     "execution_count": 9,
     "metadata": {},
     "output_type": "execute_result"
    }
   ],
   "source": [
    "len(labels)"
   ]
  },
  {
   "cell_type": "code",
   "execution_count": 10,
   "id": "c3dab52c-fd53-4e8e-928b-9c7217b03832",
   "metadata": {},
   "outputs": [
    {
     "name": "stdout",
     "output_type": "stream",
     "text": [
      "51\n"
     ]
    },
    {
     "data": {
      "image/png": "[encoded data removed]",
      "text/plain": [
       "<Figure size 640x480 with 1 Axes>"
      ]
     },
     "metadata": {},
     "output_type": "display_data"
    }
   ],
   "source": [
    "plt.imshow(data[5].reshape(3,32,32).transpose(1,2,0));\n",
    "print(labels[5])"
   ]
  },
  {
   "cell_type": "markdown",
   "id": "352a25a0-e0e6-4616-8570-925c3f2b5b07",
   "metadata": {
    "jp-MarkdownHeadingCollapsed": true
   },
   "source": [
    "### Filter based on desired labels"
   ]
  },
  {
   "cell_type": "code",
   "execution_count": 11,
   "id": "66eb001f-87cd-40fe-9edb-92d89bb31f3c",
   "metadata": {},
   "outputs": [],
   "source": [
    "# Filter data based on desired classes\n",
    "filtered_indices = []\n",
    "\n",
    "# Iterate through each label in the dataset\n",
    "for i, label in enumerate(labels):\n",
    "    # Check if the label matches any class in desired_class_indices\n",
    "    for cifar10_class, class_indices in desired_class_indices.items():\n",
    "        if label in class_indices:\n",
    "            filtered_indices.append(i)\n",
    "            break  # Exit the inner loop as we've found a match for this label\n",
    "\n",
    "# Extract the filtered data and labels\n",
    "filtered_data = data[filtered_indices]\n",
    "filtered_labels = []\n",
    "\n",
    "# Map the filtered ImageNet class indices to their corresponding CIFAR-10 labels\n",
    "for i in filtered_indices:\n",
    "    for cifar10_class, class_indices in desired_class_indices.items():\n",
    "        if labels[i] in class_indices:\n",
    "            filtered_labels.append(cifar10_class)\n",
    "            break  # Exit the loop once the match is found\n"
   ]
  },
  {
   "cell_type": "code",
   "execution_count": 12,
   "id": "e4ecbae8-0244-45de-8ae7-6cfd393f8df8",
   "metadata": {
    "scrolled": true
   },
   "outputs": [
    {
     "data": {
      "text/plain": [
       "(5250, 9, 0)"
      ]
     },
     "execution_count": 12,
     "metadata": {},
     "output_type": "execute_result"
    }
   ],
   "source": [
    "len(filtered_labels), np.max(filtered_labels), np.min(filtered_labels)"
   ]
  },
  {
   "cell_type": "code",
   "execution_count": 13,
   "id": "81423fb7",
   "metadata": {},
   "outputs": [],
   "source": [
    "num_samples = {i for i in filtered_labels}"
   ]
  },
  {
   "cell_type": "code",
   "execution_count": 14,
   "id": "8f6959c0",
   "metadata": {},
   "outputs": [],
   "source": [
    "num_samples = {}\n",
    "for i in filtered_labels:\n",
    "    num_samples[i] = 0\n",
    "\n",
    "for i in filtered_labels:\n",
    "    num_samples[i] +=1"
   ]
  },
  {
   "cell_type": "code",
   "execution_count": 15,
   "id": "f17398d6",
   "metadata": {},
   "outputs": [
    {
     "data": {
      "text/plain": [
       "{1: 700, 2: 2900, 3: 250, 0: 150, 5: 750, 6: 150, 9: 100, 8: 250}"
      ]
     },
     "execution_count": 15,
     "metadata": {},
     "output_type": "execute_result"
    }
   ],
   "source": [
    "num_samples"
   ]
  },
  {
   "cell_type": "markdown",
   "id": "375aec3c-1ba0-43df-8b92-c156cd833c84",
   "metadata": {
    "jp-MarkdownHeadingCollapsed": true
   },
   "source": [
    "### Preprocess the Images"
   ]
  },
  {
   "cell_type": "code",
   "execution_count": 16,
   "id": "6e5620a2-ccf8-4aaa-9bbe-183af511e93b",
   "metadata": {},
   "outputs": [],
   "source": [
    "# Here, 32x32x3 images are stored as rows in the data matrix\n",
    "num_images = len(filtered_data)\n",
    "reshaped_data = filtered_data.reshape(\n",
    "    num_images, 3, 32, 32\n",
    ")  # Change the shape to [num_images, 3, 32, 32]"
   ]
  },
  {
   "cell_type": "code",
   "execution_count": 17,
   "id": "a58fd85a-0282-4fbd-b181-b84b0287ac2d",
   "metadata": {},
   "outputs": [
    {
     "data": {
      "text/plain": [
       "(3, 32, 32)"
      ]
     },
     "execution_count": 17,
     "metadata": {},
     "output_type": "execute_result"
    }
   ],
   "source": [
    "reshaped_data[0].shape"
   ]
  },
  {
   "cell_type": "code",
   "execution_count": 18,
   "id": "c5b5cb00-67c0-4f05-8069-207fd5f16019",
   "metadata": {},
   "outputs": [
    {
     "data": {
      "image/png": "[encoded data removed]",
      "text/plain": [
       "<Figure size 640x480 with 1 Axes>"
      ]
     },
     "metadata": {},
     "output_type": "display_data"
    }
   ],
   "source": [
    "plt.imshow(reshaped_data[0].transpose(1,2,0))\n",
    "plt.title(filtered_labels[0])\n",
    "plt.show()"
   ]
  },
  {
   "cell_type": "code",
   "execution_count": 19,
   "id": "1ab390d7-cfca-458a-91c4-aa9b7cee02b0",
   "metadata": {},
   "outputs": [],
   "source": [
    "# Define the transforms for the dataset\n",
    "teacher_transform = transforms.Compose(\n",
    "    [\n",
    "        transforms.ToTensor(),\n",
    "        transforms.Normalize(\n",
    "            mean=[0.4914, 0.4822, 0.4465], std=[0.2471, 0.2435, 0.2616]\n",
    "        ),\n",
    "    ]\n",
    ")"
   ]
  },
  {
   "cell_type": "code",
   "execution_count": 20,
   "id": "10672422-9094-4568-8042-f5503e4dea04",
   "metadata": {},
   "outputs": [
    {
     "data": {
      "text/plain": [
       "(5250, 32, 32, 3)"
      ]
     },
     "execution_count": 20,
     "metadata": {},
     "output_type": "execute_result"
    }
   ],
   "source": [
    "reshaped_data = reshaped_data.transpose(0, 2, 3, 1)\n",
    "reshaped_data.shape"
   ]
  },
  {
   "cell_type": "code",
   "execution_count": 21,
   "id": "e2bdb0ab-d8b5-4db7-ab46-724e02e2e7cc",
   "metadata": {},
   "outputs": [],
   "source": [
    "# Convert to PyTorch tensors\n",
    "# images_tensor = torch.tensor(reshaped_data, dtype=torch.float32)\n",
    "images_tensor = torch.stack([teacher_transform(img) for img in reshaped_data])\n",
    "labels_tensor = torch.tensor(filtered_labels, dtype=torch.long)"
   ]
  },
  {
   "cell_type": "code",
   "execution_count": 22,
   "id": "65f143b8-6710-463b-befc-6d4174007b5d",
   "metadata": {},
   "outputs": [
    {
     "data": {
      "text/plain": [
       "(torch.Size([3, 32, 32]), torch.Size([]))"
      ]
     },
     "execution_count": 22,
     "metadata": {},
     "output_type": "execute_result"
    }
   ],
   "source": [
    "images_tensor[0].shape, labels_tensor[0].shape"
   ]
  },
  {
   "cell_type": "code",
   "execution_count": 23,
   "id": "814dac2a-3612-4868-9a8c-65c22343410f",
   "metadata": {},
   "outputs": [
    {
     "data": {
      "text/plain": [
       "tensor(2.1265)"
      ]
     },
     "execution_count": 23,
     "metadata": {},
     "output_type": "execute_result"
    }
   ],
   "source": [
    "images_tensor.max()"
   ]
  },
  {
   "cell_type": "markdown",
   "id": "f994b626-42e6-447a-8954-07362ba15574",
   "metadata": {
    "jp-MarkdownHeadingCollapsed": true
   },
   "source": [
    "### ImageNet Subset DataLoader"
   ]
  },
  {
   "cell_type": "code",
   "execution_count": 24,
   "id": "2a395418-ecd2-47f1-8e8a-52f41c121377",
   "metadata": {},
   "outputs": [],
   "source": [
    "# Optionally, create a dataset and dataloader\n",
    "dataset = torch.utils.data.TensorDataset(images_tensor, labels_tensor)\n",
    "dataloader = torch.utils.data.DataLoader(dataset, batch_size=64, shuffle=False)"
   ]
  },
  {
   "cell_type": "markdown",
   "id": "de2f5778-1c93-4347-8d06-c6b5cc400bf9",
   "metadata": {
    "jp-MarkdownHeadingCollapsed": true
   },
   "source": [
    "### Load Teacher CIFAR10"
   ]
  },
  {
   "cell_type": "code",
   "execution_count": 25,
   "id": "2eed5de7-20b2-4cc5-b623-8d1e17fd1f48",
   "metadata": {},
   "outputs": [],
   "source": [
    "# load student data\n",
    "teacher_test_data = CIFAR10(\n",
    "    root=\"../../../ML/PyTorch_CIFAR10/data\",\n",
    "    train=False,\n",
    "    transform=teacher_transform,\n",
    ")"
   ]
  },
  {
   "cell_type": "code",
   "execution_count": 26,
   "id": "03caa27a-d2f5-4f9a-8f6b-857ae73e1bf6",
   "metadata": {},
   "outputs": [],
   "source": [
    "test_loader = DataLoader(\n",
    "    teacher_test_data,\n",
    "    batch_size=64,\n",
    "    shuffle=False,\n",
    "    num_workers=10,\n",
    "    pin_memory=False,\n",
    "    persistent_workers=True,\n",
    ")"
   ]
  },
  {
   "cell_type": "markdown",
   "id": "51bc2280-490b-4f47-9aa9-5531c01e6687",
   "metadata": {},
   "source": [
    "### Evaluate the teacher model"
   ]
  },
  {
   "cell_type": "code",
   "execution_count": 27,
   "id": "76bd00bc-ece8-4057-8964-c7cd9642712e",
   "metadata": {
    "scrolled": true
   },
   "outputs": [
    {
     "name": "stderr",
     "output_type": "stream",
     "text": [
      "/Users/davidhernandez/Desktop/Nordling_Lab/KD_IG_Code/PyTorch_CIFAR10/cifar10_models/mobilenetv2.py:138: FutureWarning: You are using `torch.load` with `weights_only=False` (the current default value), which uses the default pickle module implicitly. It is possible to construct malicious pickle data which will execute arbitrary code during unpickling (See https://github.com/pytorch/pytorch/blob/main/SECURITY.md#untrusted-models for more details). In a future release, the default value for `weights_only` will be flipped to `True`. This limits the functions that could be executed during unpickling. Arbitrary objects will no longer be allowed to be loaded via this mode unless they are explicitly allowlisted by the user via `torch.serialization.add_safe_globals`. We recommend you start setting `weights_only=True` for any use case where you don't have full control of the loaded file. Please open an issue on GitHub for any issues related to this experimental feature.\n",
      "  state_dict = torch.load(\n"
     ]
    }
   ],
   "source": [
    "model = mobilenet_v2(pretrained=True)\n",
    "model.to(device);"
   ]
  },
  {
   "cell_type": "code",
   "execution_count": 28,
   "id": "dcde38bb-c2f5-4554-ab95-f538ac183487",
   "metadata": {},
   "outputs": [
    {
     "name": "stdout",
     "output_type": "stream",
     "text": [
      "Accuracy of the model on the Training images: 93.91\n"
     ]
    }
   ],
   "source": [
    "test_model(model=model, loader=test_loader, device=device)"
   ]
  },
  {
   "cell_type": "code",
   "execution_count": 29,
   "id": "e7c26867-8da8-4f74-aa9f-fc00d94bf372",
   "metadata": {
    "scrolled": true
   },
   "outputs": [
    {
     "name": "stdout",
     "output_type": "stream",
     "text": [
      "Accuracy of the model on the Training images: 67.37142857142857\n"
     ]
    }
   ],
   "source": [
    "test_model(model=model, loader=dataloader, device=device)"
   ]
  },
  {
   "cell_type": "code",
   "execution_count": 30,
   "id": "52dc8e67-4377-4fe6-92a9-f0bb80b588a8",
   "metadata": {},
   "outputs": [],
   "source": [
    "# Assume you have your original dataset and dataloader as per your snippet\n",
    "correct_indices = evaluate_and_drop_samples(model=model, loader=dataloader, device=device)"
   ]
  },
  {
   "cell_type": "code",
   "execution_count": 31,
   "id": "68f7f0f4-a915-4847-9c9d-c1153ccfe399",
   "metadata": {},
   "outputs": [
    {
     "name": "stdout",
     "output_type": "stream",
     "text": [
      "67.37142857142857 3537 5250\n"
     ]
    }
   ],
   "source": [
    "correct = len(correct_indices)\n",
    "full = len(dataset)\n",
    "print(correct/full * 100, correct, full)"
   ]
  },
  {
   "cell_type": "code",
   "execution_count": 32,
   "id": "bddd346c-6c7a-46fb-9d3f-78d3de91b5f0",
   "metadata": {},
   "outputs": [],
   "source": [
    "# Filter the dataset to only include correct predictions\n",
    "filtered_dataset = torch.utils.data.Subset(dataset, correct_indices)\n",
    "\n",
    "# Create a new DataLoader for the filtered dataset\n",
    "filtered_dataloader = torch.utils.data.DataLoader(filtered_dataset, batch_size=64, shuffle=False)"
   ]
  },
  {
   "cell_type": "code",
   "execution_count": 33,
   "id": "75dfe604-7b12-4aa6-889a-23383e86b99c",
   "metadata": {},
   "outputs": [
    {
     "name": "stdout",
     "output_type": "stream",
     "text": [
      "Accuracy of the model on the Training images: 100.0\n"
     ]
    }
   ],
   "source": [
    "test_model(model=model, loader=filtered_dataloader, device=device)"
   ]
  },
  {
   "cell_type": "code",
   "execution_count": 34,
   "id": "ffde9e12-1413-4c05-af6d-f6e634d1b721",
   "metadata": {
    "scrolled": true
   },
   "outputs": [
    {
     "name": "stdout",
     "output_type": "stream",
     "text": [
      "Class-wise Accuracy:\n",
      "Class 0: 100.00%\n",
      "Class 1: 100.00%\n",
      "Class 2: 100.00%\n",
      "Class 3: 100.00%\n",
      "Class 4: 0.00%\n",
      "Class 5: 100.00%\n",
      "Class 6: 100.00%\n",
      "Class 7: 0.00%\n",
      "Class 8: 100.00%\n",
      "Class 9: 100.00%\n",
      "\n",
      "F1-Score Report:\n",
      "Class 0: {'precision': 1.0, 'recall': 1.0, 'f1-score': 1.0, 'support': 126.0}\n",
      "Class 1: {'precision': 1.0, 'recall': 1.0, 'f1-score': 1.0, 'support': 377.0}\n",
      "Class 2: {'precision': 1.0, 'recall': 1.0, 'f1-score': 1.0, 'support': 2125.0}\n",
      "Class 3: {'precision': 1.0, 'recall': 1.0, 'f1-score': 1.0, 'support': 203.0}\n",
      "Class 5: {'precision': 1.0, 'recall': 1.0, 'f1-score': 1.0, 'support': 347.0}\n",
      "Class 6: {'precision': 1.0, 'recall': 1.0, 'f1-score': 1.0, 'support': 99.0}\n",
      "Class 8: {'precision': 1.0, 'recall': 1.0, 'f1-score': 1.0, 'support': 194.0}\n",
      "Class 9: {'precision': 1.0, 'recall': 1.0, 'f1-score': 1.0, 'support': 66.0}\n",
      "Class macro avg: {'precision': 1.0, 'recall': 1.0, 'f1-score': 1.0, 'support': 3537.0}\n",
      "Class weighted avg: {'precision': 1.0, 'recall': 1.0, 'f1-score': 1.0, 'support': 3537.0}\n",
      "\n",
      "Balanced Accuracy: 1.0000\n",
      "Cohen's Kappa: 1.0000\n",
      "\n",
      "Confusion Matrix:\n",
      "[[ 126    0    0    0    0    0    0    0]\n",
      " [   0  377    0    0    0    0    0    0]\n",
      " [   0    0 2125    0    0    0    0    0]\n",
      " [   0    0    0  203    0    0    0    0]\n",
      " [   0    0    0    0  347    0    0    0]\n",
      " [   0    0    0    0    0   99    0    0]\n",
      " [   0    0    0    0    0    0  194    0]\n",
      " [   0    0    0    0    0    0    0   66]]\n"
     ]
    }
   ],
   "source": [
    "metrics = evaluate_model_performance(model=model, dataloader=filtered_dataloader, device=device, num_classes=10)\n",
    "# Print class accuracy\n",
    "print(\"Class-wise Accuracy:\")\n",
    "for class_idx, accuracy in metrics[\"class_accuracy\"].items():\n",
    "    print(f\"Class {class_idx}: {accuracy:.2f}%\")\n",
    "\n",
    "# Print F1-Score report\n",
    "print(\"\\nF1-Score Report:\")\n",
    "for class_idx, report in metrics[\"f1_report\"].items():\n",
    "    if isinstance(report, dict):  # Ensure we're only printing relevant class-wise details\n",
    "        print(f\"Class {class_idx}: {report}\")\n",
    "\n",
    "# Print other metrics\n",
    "print(f\"\\nBalanced Accuracy: {metrics['balanced_accuracy']:.4f}\")\n",
    "print(f\"Cohen's Kappa: {metrics['cohen_kappa']:.4f}\")\n",
    "print(\"\\nConfusion Matrix:\")\n",
    "print(metrics[\"confusion_matrix\"])"
   ]
  },
  {
   "cell_type": "markdown",
   "id": "89179afa-9b8a-408b-8b03-d1943d325274",
   "metadata": {
    "jp-MarkdownHeadingCollapsed": true
   },
   "source": [
    "# Compute IGs on ImageNet"
   ]
  },
  {
   "cell_type": "code",
   "execution_count": 42,
   "id": "7a845496-6d8d-4d87-9438-97faf5a52096",
   "metadata": {},
   "outputs": [],
   "source": [
    "ig_dataloader = torch.utils.data.DataLoader(filtered_dataset, batch_size=8, shuffle=False)"
   ]
  },
  {
   "cell_type": "code",
   "execution_count": 43,
   "id": "23ab8fe3-ef6e-4897-a29c-5afa656cc289",
   "metadata": {},
   "outputs": [],
   "source": [
    "import captum\n",
    "from captum.attr import IntegratedGradients"
   ]
  },
  {
   "cell_type": "code",
   "execution_count": null,
   "id": "97f110f6-eebe-480f-8033-48bf4d5cbbbe",
   "metadata": {},
   "outputs": [],
   "source": [
    "ig_captum = IntegratedGradients(model)\n",
    "\n",
    "captum_igs = []  # Store Captum's integrated gradients\n",
    "\n",
    "# Wrap the DataLoader with tqdm for a progress bar\n",
    "for inputs, targets in tqdm(ig_dataloader, desc=\"Computing IGs\", leave=True):\n",
    "    inputs = inputs.to(device)\n",
    "    targets = targets.to(device)\n",
    "\n",
    "    # Compute attributions using Captum\n",
    "    attributions = ig_captum.attribute(\n",
    "        inputs, target=targets, baselines=inputs * 0, return_convergence_delta=False\n",
    "    )\n",
    "    # Sum attributions over the channel dimension and take absolute value\n",
    "    attributions_summed = torch.sum(torch.abs(attributions), dim=1).cpu().numpy()\n",
    "\n",
    "    captum_igs.append(attributions_summed)\n",
    "\n",
    "captum_igs = np.concatenate(captum_igs, axis=0)\n",
    "np.save('imagenet_igs.npy', captum_igs)\n",
    "print(f\"Shape of IGs array: {captum_igs.shape}\")"
   ]
  },
  {
   "cell_type": "code",
   "execution_count": 45,
   "id": "4a729590",
   "metadata": {},
   "outputs": [],
   "source": [
    "captum_igs = np.load('imagenet_igs.npy')"
   ]
  },
  {
   "cell_type": "code",
   "execution_count": 46,
   "id": "e799c8a4-108a-4c25-ad5f-97288ba6e4d1",
   "metadata": {},
   "outputs": [],
   "source": [
    "def process_ig(ig):\n",
    "    return np.repeat(np.expand_dims(ig, axis=3), 3, axis=-1)"
   ]
  },
  {
   "cell_type": "code",
   "execution_count": 47,
   "id": "8f278a43-9449-451b-9e6a-1bad99671ba1",
   "metadata": {},
   "outputs": [
    {
     "data": {
      "text/plain": [
       "(4900, 32, 32, 3)"
      ]
     },
     "execution_count": 47,
     "metadata": {},
     "output_type": "execute_result"
    }
   ],
   "source": [
    "igs_expanded = process_ig(captum_igs)\n",
    "igs_expanded.shape"
   ]
  },
  {
   "cell_type": "code",
   "execution_count": 48,
   "id": "5073700e-5616-4f85-89bc-4ee910f17c14",
   "metadata": {},
   "outputs": [],
   "source": [
    "igs_norm, _, _ = norm(igs_expanded)"
   ]
  },
  {
   "cell_type": "code",
   "execution_count": 49,
   "id": "5df71c85-08d2-4480-be66-a13032dc5a12",
   "metadata": {},
   "outputs": [
    {
     "data": {
      "text/plain": [
       "1.0"
      ]
     },
     "execution_count": 49,
     "metadata": {},
     "output_type": "execute_result"
    }
   ],
   "source": [
    "igs_norm.max()"
   ]
  },
  {
   "cell_type": "code",
   "execution_count": 50,
   "id": "7dae11b6-f7d8-4e47-af66-a5b3c8444382",
   "metadata": {},
   "outputs": [],
   "source": [
    "# Convert to PyTorch tensors\n",
    "norm_data, _, _ = norm(reshaped_data)\n",
    "imagenet_tensor = torch.tensor(norm_data, dtype=torch.float32)\n",
    "\n",
    "# Optionally, create a dataset and dataloader\n",
    "imagenet_ig = torch.utils.data.TensorDataset(imagenet_tensor, labels_tensor)"
   ]
  },
  {
   "cell_type": "code",
   "execution_count": 51,
   "id": "7abf52a6-5e73-42ae-aeca-f9033ee569c2",
   "metadata": {},
   "outputs": [
    {
     "data": {
      "text/plain": [
       "tensor(0.9882)"
      ]
     },
     "execution_count": 51,
     "metadata": {},
     "output_type": "execute_result"
    }
   ],
   "source": [
    "img, label = imagenet_ig[4]\n",
    "img.max()"
   ]
  },
  {
   "cell_type": "code",
   "execution_count": 52,
   "id": "70b3ad87-4b96-4aa5-be41-6de0bd66cdd3",
   "metadata": {},
   "outputs": [],
   "source": [
    "image = img.numpy()"
   ]
  },
  {
   "cell_type": "code",
   "execution_count": 53,
   "id": "73ceb5ee-3426-47ad-8b08-c9abd00d87f3",
   "metadata": {},
   "outputs": [],
   "source": [
    "overlay_image = 0.5 * igs_norm[4] + 0.5 * image"
   ]
  },
  {
   "cell_type": "code",
   "execution_count": 54,
   "id": "779a048a-82e0-4f9f-83d8-b3571f2fca54",
   "metadata": {},
   "outputs": [
    {
     "data": {
      "image/png": "[encoded data removed]",
      "text/plain": [
       "<Figure size 1200x1200 with 3 Axes>"
      ]
     },
     "metadata": {},
     "output_type": "display_data"
    }
   ],
   "source": [
    "plt.figure(figsize=(12,12))\n",
    "plt.subplot(1,3,1)\n",
    "plt.imshow(image)\n",
    "plt.title(\"Original Image\", fontsize=24)\n",
    "plt.axis('off')\n",
    "\n",
    "plt.subplot(1,3,2)\n",
    "plt.imshow(igs_norm[4])\n",
    "plt.title(\"IG\", fontsize=24)\n",
    "plt.axis('off')\n",
    "\n",
    "plt.subplot(1,3,3)\n",
    "plt.imshow(overlay_image)\n",
    "plt.title(\"Overlaid Image\", fontsize=24)\n",
    "plt.axis('off')\n",
    "\n",
    "plt.tight_layout()\n",
    "plt.savefig(\"ImageNet_igs.pdf\")\n",
    "plt.show()"
   ]
  },
  {
   "cell_type": "code",
   "execution_count": 82,
   "id": "0832473a-fd72-4182-b061-448f3ed8124d",
   "metadata": {},
   "outputs": [
    {
     "data": {
      "image/png": "[encoded data removed]",
      "text/plain": [
       "<Figure size 3000x1400 with 5 Axes>"
      ]
     },
     "metadata": {},
     "output_type": "display_data"
    }
   ],
   "source": [
    "sample = 120\n",
    "\n",
    "img, label = imagenet_ig[sample]\n",
    "\n",
    "quantile_values = [np.quantile(igs_norm[sample], q) for q in [0.25, 0.5, 0.75]]\n",
    "masks_quantile = [(igs_norm[sample] > quantile) for quantile in quantile_values]\n",
    "masked_images_quantile = [np.where(mask, image, 0) for mask in masks_quantile]\n",
    "\n",
    "# Plotting with quantile-based cutoffs\n",
    "fig, ax = plt.subplots(1, 5, figsize=(30, 14))  # 5 subplots\n",
    "plt.rcParams['font.family'] = 'Times New Roman'\n",
    "plt.rcParams['font.size'] = 48\n",
    "# Display original image\n",
    "ax[0].imshow(image, cmap='gray')\n",
    "ax[0].set_title('Original Image')\n",
    "ax[0].axis('off')\n",
    "\n",
    "# Display IG\n",
    "ax[1].imshow(igs_norm[sample], cmap='gray')\n",
    "ax[1].set_title('IG')\n",
    "ax[1].axis('off')\n",
    "\n",
    "# Display masked images for each quantile threshold\n",
    "for i, (masked_image, quantile) in enumerate(zip(masked_images_quantile, [0.25, 0.5, 0.75]), start=2):\n",
    "    ax[i].imshow(masked_image, cmap='gray')\n",
    "    ax[i].set_title(f'Cutoff ({quantile})')\n",
    "    ax[i].axis('off')\n",
    "plt.tight_layout()\n",
    "plt.savefig(\"Hernandez2024_ImageNet_igs.pdf\")\n",
    "plt.show()"
   ]
  },
  {
   "cell_type": "markdown",
   "id": "b4c1f159",
   "metadata": {},
   "source": [
    "# Compute the Attention Maps"
   ]
  },
  {
   "cell_type": "code",
   "execution_count": 35,
   "id": "5feeaa4c",
   "metadata": {},
   "outputs": [
    {
     "name": "stderr",
     "output_type": "stream",
     "text": [
      "/Users/davidhernandez/Desktop/Nordling_Lab/KD_IG_Code/PyTorch_CIFAR10/cifar10_models/mobilenetv2.py:138: FutureWarning: You are using `torch.load` with `weights_only=False` (the current default value), which uses the default pickle module implicitly. It is possible to construct malicious pickle data which will execute arbitrary code during unpickling (See https://github.com/pytorch/pytorch/blob/main/SECURITY.md#untrusted-models for more details). In a future release, the default value for `weights_only` will be flipped to `True`. This limits the functions that could be executed during unpickling. Arbitrary objects will no longer be allowed to be loaded via this mode unless they are explicitly allowlisted by the user via `torch.serialization.add_safe_globals`. We recommend you start setting `weights_only=True` for any use case where you don't have full control of the loaded file. Please open an issue on GitHub for any issues related to this experimental feature.\n",
      "  state_dict = torch.load(\n"
     ]
    }
   ],
   "source": [
    "Teacher_att = ModifiedTeacher(mobilenet_v2(pretrained=True))\n",
    "Teacher_att.to(device);"
   ]
  },
  {
   "cell_type": "code",
   "execution_count": 36,
   "id": "be768eba",
   "metadata": {},
   "outputs": [
    {
     "name": "stdout",
     "output_type": "stream",
     "text": [
      "Accuracy of the model on the Testing images: 93.91 %\n"
     ]
    }
   ],
   "source": [
    "test_model_att(Teacher_att, test_loader, device)"
   ]
  },
  {
   "cell_type": "code",
   "execution_count": 40,
   "id": "fb3d699f",
   "metadata": {},
   "outputs": [],
   "source": [
    "at_dataloader = torch.utils.data.DataLoader(filtered_dataset, batch_size=64, shuffle=False)"
   ]
  },
  {
   "cell_type": "code",
   "execution_count": 41,
   "id": "6c2fed0b",
   "metadata": {},
   "outputs": [
    {
     "name": "stdout",
     "output_type": "stream",
     "text": [
      "(3537, 64)\n"
     ]
    }
   ],
   "source": [
    "Teacher_att.eval()\n",
    "\n",
    "# Initialize a list to hold all attention maps\n",
    "all_attention_maps = []\n",
    "\n",
    "# Loop through the dataset\n",
    "for inputs, _ in at_dataloader:\n",
    "    inputs = inputs.to(device)\n",
    "    logits, attention_maps = Teacher_att(inputs)\n",
    "    \n",
    "    # Move attention maps to CPU and convert to numpy\n",
    "    attention_maps_np = attention_maps.detach().cpu().numpy()\n",
    "    all_attention_maps.append(attention_maps_np)\n",
    "\n",
    "# Concatenate all attention maps along the first axis (batch axis)\n",
    "all_attention_maps_np = np.concatenate(all_attention_maps, axis=0)\n",
    "# Save the complete array of attention maps\n",
    "np.save(\"../../../ML/PyTorch_CIFAR10/data/imagenet_attention_maps.npy\", all_attention_maps_np)\n",
    "print(all_attention_maps_np.shape)"
   ]
  },
  {
   "cell_type": "markdown",
   "id": "b7b9cec2-80fe-4991-85aa-ecba2d0fac60",
   "metadata": {
    "jp-MarkdownHeadingCollapsed": true
   },
   "source": [
    "# Train the student models and evaluate"
   ]
  },
  {
   "cell_type": "markdown",
   "id": "73016ca7-8fc8-492b-b119-7ec43d096b2c",
   "metadata": {},
   "source": [
    "## Data Loading & Preprocess"
   ]
  },
  {
   "cell_type": "markdown",
   "id": "415ab46e-544a-4f97-95e0-7083ca2032b4",
   "metadata": {},
   "source": [
    "### Transforms"
   ]
  },
  {
   "cell_type": "code",
   "execution_count": 35,
   "id": "1901b815-a2fa-4530-9d7e-6b3609a0047c",
   "metadata": {},
   "outputs": [],
   "source": [
    "transform = transforms.Compose(\n",
    "    [\n",
    "        transforms.ToTensor(),\n",
    "    ]\n",
    ")\n",
    "\n",
    "student_aug = transforms.Compose(\n",
    "    [\n",
    "        transforms.RandomCrop(32, padding=4),\n",
    "        transforms.RandomHorizontalFlip(),\n",
    "        transforms.ToTensor(),\n",
    "    ]\n",
    ")"
   ]
  },
  {
   "cell_type": "markdown",
   "id": "aaadd602-86c7-478f-9cb6-c79d365ca8aa",
   "metadata": {},
   "source": [
    "### Imagenet Load "
   ]
  },
  {
   "cell_type": "code",
   "execution_count": 36,
   "id": "b8c46ec6-cd97-454d-9488-a3914e03eb77",
   "metadata": {},
   "outputs": [
    {
     "data": {
      "text/plain": [
       "(5250, 32, 32, 3)"
      ]
     },
     "execution_count": 36,
     "metadata": {},
     "output_type": "execute_result"
    }
   ],
   "source": [
    "reshaped_data.shape"
   ]
  },
  {
   "cell_type": "code",
   "execution_count": 37,
   "id": "8b71a35f-f031-465a-8cf4-1b0f35053094",
   "metadata": {},
   "outputs": [],
   "source": [
    "# Convert to PyTorch tensors\n",
    "student_images_tensor = torch.stack([transform(img) for img in reshaped_data])"
   ]
  },
  {
   "cell_type": "code",
   "execution_count": 38,
   "id": "143f44a2-6cad-440e-a331-dfb022aed60f",
   "metadata": {},
   "outputs": [
    {
     "data": {
      "text/plain": [
       "tensor(0.)"
      ]
     },
     "execution_count": 38,
     "metadata": {},
     "output_type": "execute_result"
    }
   ],
   "source": [
    "student_images_tensor.min()"
   ]
  },
  {
   "cell_type": "code",
   "execution_count": 39,
   "id": "0cfae1d3-4852-4a87-805f-4437921c7f42",
   "metadata": {},
   "outputs": [],
   "source": [
    "# Optionally, create a dataset and dataloader\n",
    "student_dataset = torch.utils.data.TensorDataset(student_images_tensor, labels_tensor)\n",
    "student_dataloader = torch.utils.data.DataLoader(dataset, batch_size=64, shuffle=False)"
   ]
  },
  {
   "cell_type": "code",
   "execution_count": 40,
   "id": "88417d11-156d-4bea-a69e-f62a0a3e12b4",
   "metadata": {},
   "outputs": [
    {
     "data": {
      "text/plain": [
       "tensor(1.)"
      ]
     },
     "execution_count": 40,
     "metadata": {},
     "output_type": "execute_result"
    }
   ],
   "source": [
    "img, _ = student_dataset[0]\n",
    "img.max()"
   ]
  },
  {
   "cell_type": "code",
   "execution_count": 41,
   "id": "529afb27-b120-4329-a18e-f479a7a6ea51",
   "metadata": {},
   "outputs": [],
   "source": [
    "# Filter the dataset to only include correct predictions\n",
    "filtered_student_dataset = torch.utils.data.Subset(student_dataset, correct_indices)\n",
    "\n",
    "# Create a new DataLoader for the filtered dataset\n",
    "filtered_student_dataloader = torch.utils.data.DataLoader(filtered_student_dataset, batch_size=64, shuffle=False)"
   ]
  },
  {
   "cell_type": "markdown",
   "id": "6e2501e8-06d3-4eb5-b418-f1c94902fe62",
   "metadata": {},
   "source": [
    "### hyperparams"
   ]
  },
  {
   "cell_type": "code",
   "execution_count": 42,
   "id": "f24c2ce3-2b8e-4df9-958b-ad7d5736bad2",
   "metadata": {},
   "outputs": [],
   "source": [
    "# Hyperparameters\n",
    "NUM_EPOCHS = 100\n",
    "BATCH_SIZE = 64\n",
    "# LEARN_RATE = 0.001\n",
    "NUM_WORKERS = 10\n",
    "# ALPHA=0.1\n",
    "# TEMP=3"
   ]
  },
  {
   "cell_type": "markdown",
   "id": "a71677be-7502-452b-8fbc-a282ccb059b7",
   "metadata": {},
   "source": [
    "### Test Data"
   ]
  },
  {
   "cell_type": "code",
   "execution_count": 43,
   "id": "7151d4b3-570b-45fd-a811-da2fb8138742",
   "metadata": {},
   "outputs": [],
   "source": [
    "# load student data\n",
    "test_data = CIFAR10(\n",
    "    root=\"../../../ML/PyTorch_CIFAR10/data\",\n",
    "    train=False,\n",
    "    transform=transform,\n",
    ")\n",
    "\n",
    "test_loader = DataLoader(\n",
    "    test_data,\n",
    "    batch_size=BATCH_SIZE,\n",
    "    shuffle=False,\n",
    "    num_workers=NUM_WORKERS,\n",
    "    pin_memory=False,\n",
    "    persistent_workers=True,\n",
    ")"
   ]
  },
  {
   "cell_type": "markdown",
   "id": "23edd1d9-7647-4ac1-882d-cafe912982c9",
   "metadata": {
    "jp-MarkdownHeadingCollapsed": true
   },
   "source": [
    "### Load Precomputed IG and Logits"
   ]
  },
  {
   "cell_type": "code",
   "execution_count": 44,
   "id": "4fc964c1-38e4-4ade-9c70-b20bde7127b7",
   "metadata": {},
   "outputs": [
    {
     "name": "stdout",
     "output_type": "stream",
     "text": [
      "IGs shape: (50000, 32, 32)\n"
     ]
    }
   ],
   "source": [
    "IGS = \"../../../ML/PyTorch_CIFAR10/data/Captum_IGs.npy\"\n",
    "# Load the precomputed IGs\n",
    "igs = np.load(IGS)\n",
    "print(f\"IGs shape: {igs.shape}\")"
   ]
  },
  {
   "cell_type": "code",
   "execution_count": 45,
   "id": "705c8d22-5106-4e7b-95ec-8faf297b1b7f",
   "metadata": {},
   "outputs": [
    {
     "name": "stdout",
     "output_type": "stream",
     "text": [
      "Shape of teacher_logits: (50000, 10)\n"
     ]
    }
   ],
   "source": [
    "precomputed_logits = np.load(\"../../../ML/PyTorch_CIFAR10/data/cifar10_logits.npy\")\n",
    "print(\"Shape of teacher_logits:\", precomputed_logits.shape)"
   ]
  },
  {
   "cell_type": "code",
   "execution_count": 46,
   "id": "b1e20553",
   "metadata": {},
   "outputs": [
    {
     "name": "stdout",
     "output_type": "stream",
     "text": [
      "attention maps shape: (50000, 8, 8)\n"
     ]
    }
   ],
   "source": [
    "attn = \"../../../ML/PyTorch_CIFAR10/data/cifar10_attention_maps.npy\"\n",
    "# Load the precomputed IGs\n",
    "att_maps = np.load(attn)\n",
    "print(f\"attention maps shape: {att_maps.shape}\")"
   ]
  },
  {
   "cell_type": "code",
   "execution_count": 47,
   "id": "76d4ba75",
   "metadata": {},
   "outputs": [
    {
     "name": "stdout",
     "output_type": "stream",
     "text": [
      "attention maps shape: (50000, 8, 8)\n"
     ]
    }
   ],
   "source": [
    "attn_imagenet = \"../../../ML/PyTorch_CIFAR10/data/imagenet_attention_maps.npy\"\n",
    "# Load the precomputed IGs\n",
    "att_maps_imagenet = np.load(attn_imagenet)\n",
    "print(f\"attention maps shape: {att_maps.shape}\")"
   ]
  },
  {
   "cell_type": "markdown",
   "id": "d0b2ccb1-2925-47d0-ba6e-3eb3bcf40523",
   "metadata": {
    "jp-MarkdownHeadingCollapsed": true
   },
   "source": [
    "# KD_IG (overlay_prob=0.1)"
   ]
  },
  {
   "cell_type": "markdown",
   "id": "729e5a34-93ba-4811-ba40-591a815556e5",
   "metadata": {
    "jp-MarkdownHeadingCollapsed": true
   },
   "source": [
    "## Training"
   ]
  },
  {
   "cell_type": "code",
   "execution_count": 48,
   "id": "7d5f3451-ab40-4435-b4ab-217b913d098e",
   "metadata": {},
   "outputs": [],
   "source": [
    "# Define the full training dataset without augmentation for splitting\n",
    "train_dataset = CIFAR10WithIG(\n",
    "    igs=igs,\n",
    "    root=\"../../../ML/PyTorch_CIFAR10/data\",\n",
    "    train=True,\n",
    "    transform=student_aug,\n",
    "    precomputed_logits=precomputed_logits,\n",
    "    overlay_prob=0.1,\n",
    "    return_ig=False,\n",
    ")"
   ]
  },
  {
   "cell_type": "code",
   "execution_count": 49,
   "id": "5f25bdd7-3a68-4e47-a797-8574f7dda0c2",
   "metadata": {},
   "outputs": [],
   "source": [
    "# Load the data into batches\n",
    "train_loader = DataLoader(\n",
    "    train_dataset,\n",
    "    batch_size=BATCH_SIZE,\n",
    "    shuffle=True,\n",
    "    num_workers=NUM_WORKERS,\n",
    "    pin_memory=False,\n",
    "    persistent_workers=True,\n",
    ")"
   ]
  },
  {
   "cell_type": "code",
   "execution_count": 50,
   "id": "a803d8f3-814c-4016-8a08-72330f96ca28",
   "metadata": {
    "scrolled": true
   },
   "outputs": [],
   "source": [
    "KD_IG = SmallerMobileNet(mobilenet_v2(pretrained=False))\n",
    "KD_IG.to(device);"
   ]
  },
  {
   "cell_type": "markdown",
   "id": "e39359f4-f7a7-4805-a249-3f2960142f6a",
   "metadata": {},
   "source": [
    "## Load model"
   ]
  },
  {
   "cell_type": "code",
   "execution_count": 51,
   "id": "1363cf63-651f-4cbb-82dd-708146aa8d4f",
   "metadata": {},
   "outputs": [
    {
     "data": {
      "text/plain": [
       "<All keys matched successfully>"
      ]
     },
     "execution_count": 51,
     "metadata": {},
     "output_type": "execute_result"
    }
   ],
   "source": [
    "KD_IG.load_state_dict(torch.load(\"../../../ML/PyTorch_CIFAR10/Histories/Tuned_KD/KD_IG_0.1/KD_IG_0.1.pt\", weights_only=True, map_location=device))"
   ]
  },
  {
   "cell_type": "markdown",
   "id": "1dc0c252",
   "metadata": {},
   "source": [
    "## Test on ImageNet"
   ]
  },
  {
   "cell_type": "code",
   "execution_count": 52,
   "id": "c1d38857",
   "metadata": {},
   "outputs": [
    {
     "name": "stdout",
     "output_type": "stream",
     "text": [
      "Accuracy of the model on the Training images: 17.447619047619046\n"
     ]
    }
   ],
   "source": [
    "test_model(model=KD_IG, loader=student_dataloader, device=device)"
   ]
  },
  {
   "cell_type": "markdown",
   "id": "4fc27ba6",
   "metadata": {},
   "source": [
    "# KD_IG_AT"
   ]
  },
  {
   "cell_type": "code",
   "execution_count": 53,
   "id": "9f1dc95d",
   "metadata": {},
   "outputs": [],
   "source": [
    "# Define the full training dataset without augmentation for splitting\n",
    "train_dataset = CIFAR10WithIG(\n",
    "    igs=igs,\n",
    "    root=\"../../../ML/PyTorch_CIFAR10/data\",\n",
    "    train=True,\n",
    "    transform=student_aug,\n",
    "    precomputed_logits=precomputed_logits,\n",
    "    precomputed_attn=att_maps,\n",
    "    overlay_prob=0.1,\n",
    "    return_ig=False,\n",
    ")\n",
    "\n",
    "# Load the data into batches\n",
    "train_loader = DataLoader(\n",
    "    train_dataset,\n",
    "    batch_size=BATCH_SIZE,\n",
    "    shuffle=True,\n",
    "    num_workers=10,\n",
    "    pin_memory=False,\n",
    "    persistent_workers=True,\n",
    ")\n"
   ]
  },
  {
   "cell_type": "code",
   "execution_count": 54,
   "id": "a0b0e7b8",
   "metadata": {},
   "outputs": [],
   "source": [
    "KD_IG_AT = ModifiedStudent(mobilenet_v2(pretrained=False))\n",
    "KD_IG_AT.to(device);"
   ]
  },
  {
   "cell_type": "markdown",
   "id": "fd438a54",
   "metadata": {},
   "source": [
    "### Load the model"
   ]
  },
  {
   "cell_type": "code",
   "execution_count": 55,
   "id": "bff7e270",
   "metadata": {},
   "outputs": [
    {
     "data": {
      "text/plain": [
       "<All keys matched successfully>"
      ]
     },
     "execution_count": 55,
     "metadata": {},
     "output_type": "execute_result"
    }
   ],
   "source": [
    "KD_IG_AT.load_state_dict(torch.load(\"../../../ML/PyTorch_CIFAR10/Histories/AT_param/KD_IG_AT_0.8/KD_IG_AT0.8.pt\", weights_only=True, map_location=device))"
   ]
  },
  {
   "cell_type": "markdown",
   "id": "01d25607",
   "metadata": {},
   "source": [
    "### Test on ImageNet"
   ]
  },
  {
   "cell_type": "code",
   "execution_count": 56,
   "id": "5f90eb75",
   "metadata": {},
   "outputs": [
    {
     "name": "stdout",
     "output_type": "stream",
     "text": [
      "Accuracy of the model on the Testing images: 19.65714285714286 %\n"
     ]
    }
   ],
   "source": [
    "test_model_att(model=KD_IG_AT, loader=student_dataloader, device=device)"
   ]
  },
  {
   "cell_type": "markdown",
   "id": "1eedd6c0-4fe2-4089-8b42-19ab272abace",
   "metadata": {
    "jp-MarkdownHeadingCollapsed": true
   },
   "source": [
    "# IG (overlay_prob=0.1)"
   ]
  },
  {
   "cell_type": "code",
   "execution_count": 57,
   "id": "9009a9ea-cf5e-47c1-b75f-7eec0af5a5e3",
   "metadata": {},
   "outputs": [],
   "source": [
    "# Define the full training dataset without augmentation for splitting\n",
    "train_dataset = CIFAR10WithIG(\n",
    "    igs=igs,\n",
    "    root=\"../../../ML/PyTorch_CIFAR10/data\",\n",
    "    train=True,\n",
    "    transform=student_aug,\n",
    "    precomputed_logits=precomputed_logits,\n",
    "    overlay_prob=0.1,\n",
    "    return_ig=False,\n",
    ")\n",
    "\n",
    "# Load the data into batches\n",
    "train_loader = DataLoader(\n",
    "    train_dataset,\n",
    "    batch_size=BATCH_SIZE,\n",
    "    shuffle=True,\n",
    "    num_workers=NUM_WORKERS,\n",
    "    pin_memory=False,\n",
    "    persistent_workers=True,\n",
    ")"
   ]
  },
  {
   "cell_type": "code",
   "execution_count": 58,
   "id": "8fd802e2-9549-488f-80fd-b8cfacc298d2",
   "metadata": {
    "scrolled": true
   },
   "outputs": [],
   "source": [
    "IG = SmallerMobileNet(mobilenet_v2(pretrained=False))\n",
    "IG.to(device);"
   ]
  },
  {
   "cell_type": "markdown",
   "id": "33e43c68-3a67-4bc5-9163-45411524ed66",
   "metadata": {},
   "source": [
    "### Load the model"
   ]
  },
  {
   "cell_type": "code",
   "execution_count": 59,
   "id": "93b04ea2-32dd-4ed1-9bf2-7ebff9397619",
   "metadata": {},
   "outputs": [
    {
     "data": {
      "text/plain": [
       "<All keys matched successfully>"
      ]
     },
     "execution_count": 59,
     "metadata": {},
     "output_type": "execute_result"
    }
   ],
   "source": [
    "IG.load_state_dict(torch.load(\"../../../ML/PyTorch_CIFAR10/Histories/Tuned_KD/IG_0.1/IG_0.1.pt\", weights_only=True, map_location=device))"
   ]
  },
  {
   "cell_type": "markdown",
   "id": "87c83ded-27bf-495b-a5a4-0c38e4befcea",
   "metadata": {},
   "source": [
    "## Test on ImageNet"
   ]
  },
  {
   "cell_type": "code",
   "execution_count": 60,
   "id": "0665c5c0-063d-4432-96d9-74088c1d1291",
   "metadata": {},
   "outputs": [
    {
     "name": "stdout",
     "output_type": "stream",
     "text": [
      "Accuracy of the model on the Training images: 33.714285714285715\n"
     ]
    }
   ],
   "source": [
    "test_model(model=IG, loader=student_dataloader, device=device)"
   ]
  },
  {
   "cell_type": "markdown",
   "id": "301124f0-d535-4faf-b355-43756cd4e761",
   "metadata": {
    "jp-MarkdownHeadingCollapsed": true
   },
   "source": [
    "# KD"
   ]
  },
  {
   "cell_type": "code",
   "execution_count": 61,
   "id": "57318e90-768b-4dac-8c23-05efb42dc44a",
   "metadata": {},
   "outputs": [],
   "source": [
    "train_dataset = CIFAR10_KD(\n",
    "    root=\"../../../ML/PyTorch_CIFAR10/data\",\n",
    "    train=True,\n",
    "    transform=student_aug,\n",
    "    precomputed_logits=precomputed_logits,\n",
    ")\n",
    "\n",
    "# Load the data into batches\n",
    "train_loader = DataLoader(\n",
    "    train_dataset,\n",
    "    batch_size=BATCH_SIZE,\n",
    "    shuffle=True,\n",
    "    num_workers=NUM_WORKERS,\n",
    "    pin_memory=False,\n",
    "    persistent_workers=True,\n",
    ")"
   ]
  },
  {
   "cell_type": "code",
   "execution_count": 62,
   "id": "51e5c5fa-0909-4a64-9cf2-ab02e6ae4720",
   "metadata": {
    "scrolled": true
   },
   "outputs": [],
   "source": [
    "KD = SmallerMobileNet(mobilenet_v2(pretrained=False))\n",
    "KD.to(device);"
   ]
  },
  {
   "cell_type": "markdown",
   "id": "b728d217-9264-4263-ae9e-1b6976a6d3a7",
   "metadata": {},
   "source": [
    "### Load the model"
   ]
  },
  {
   "cell_type": "code",
   "execution_count": 63,
   "id": "d33f82bc-940d-4344-80f4-07c622433a83",
   "metadata": {},
   "outputs": [
    {
     "data": {
      "text/plain": [
       "<All keys matched successfully>"
      ]
     },
     "execution_count": 63,
     "metadata": {},
     "output_type": "execute_result"
    }
   ],
   "source": [
    "KD.load_state_dict(torch.load(\"/Users/davidhernandez/Desktop/ML/PyTorch_CIFAR10/Histories/Tuned_KD/KD_0.01_2.5/KD_0.01_2.5.pt\", weights_only=True, map_location=device))"
   ]
  },
  {
   "cell_type": "code",
   "execution_count": 64,
   "id": "9d9708d8",
   "metadata": {},
   "outputs": [
    {
     "name": "stdout",
     "output_type": "stream",
     "text": [
      "Accuracy of the model on the Training images: 92.29\n"
     ]
    }
   ],
   "source": [
    "test_model(model=KD, loader=test_loader, device=device)"
   ]
  },
  {
   "cell_type": "markdown",
   "id": "06664d58-564f-49db-8b2f-4ab8588adb0d",
   "metadata": {},
   "source": [
    "## Test on ImageNet"
   ]
  },
  {
   "cell_type": "code",
   "execution_count": 65,
   "id": "be74aaef-8832-4e2c-ae37-27f90d450843",
   "metadata": {},
   "outputs": [
    {
     "name": "stdout",
     "output_type": "stream",
     "text": [
      "Accuracy of the model on the Training images: 34.36190476190476\n"
     ]
    }
   ],
   "source": [
    "test_model(model=KD, loader=student_dataloader, device=device)"
   ]
  },
  {
   "cell_type": "markdown",
   "id": "7e0d8876-db97-4e9d-95b0-479cabc9c7fd",
   "metadata": {
    "jp-MarkdownHeadingCollapsed": true
   },
   "source": [
    "# Student (baseline)"
   ]
  },
  {
   "cell_type": "code",
   "execution_count": 66,
   "id": "c54703f8-535d-4ef8-aa92-d17171308295",
   "metadata": {},
   "outputs": [],
   "source": [
    "train_dataset = CIFAR10_KD(\n",
    "    root=\"../../../ML/PyTorch_CIFAR10/data\",\n",
    "    train=True,\n",
    "    transform=student_aug,\n",
    "    precomputed_logits=precomputed_logits,\n",
    ")\n",
    "\n",
    "# Load the data into batches\n",
    "train_loader = DataLoader(\n",
    "    train_dataset,\n",
    "    batch_size=BATCH_SIZE,\n",
    "    shuffle=True,\n",
    "    num_workers=NUM_WORKERS,\n",
    "    pin_memory=False,\n",
    "    persistent_workers=True,\n",
    ")"
   ]
  },
  {
   "cell_type": "code",
   "execution_count": 67,
   "id": "e3c8b882-c995-4e7f-be8e-0cf157064ffb",
   "metadata": {
    "scrolled": true
   },
   "outputs": [],
   "source": [
    "student = SmallerMobileNet(mobilenet_v2(pretrained=False))\n",
    "student.to(device);"
   ]
  },
  {
   "cell_type": "code",
   "execution_count": null,
   "id": "051fd455-7640-4dba-9f84-ccf85bb90d8c",
   "metadata": {
    "scrolled": true
   },
   "outputs": [],
   "source": [
    "Trained_student, acc_student = train_eval_kd(\n",
    "    student=student,\n",
    "    train_loader=train_loader,\n",
    "    test_loader=test_loader,\n",
    "    epochs=NUM_EPOCHS,\n",
    "    lr=LEARN_RATE,\n",
    "    TEMP=1,\n",
    "    ALPHA=0,\n",
    "    device=device,\n",
    "    csv_path=\"PyTorch_CIFAR10/Histories/Results/Student.csv\",\n",
    ")"
   ]
  },
  {
   "cell_type": "code",
   "execution_count": 67,
   "id": "b66c1e24-1568-403f-a313-88ab72cddba8",
   "metadata": {},
   "outputs": [
    {
     "name": "stdout",
     "output_type": "stream",
     "text": [
      "Test Acc = 91.35%\n"
     ]
    }
   ],
   "source": [
    "print(f\"Test Acc = {acc_student:.2f}%\")"
   ]
  },
  {
   "cell_type": "markdown",
   "id": "42d94a35-ca5b-4cca-8833-623a88cc423d",
   "metadata": {},
   "source": [
    "### Save the model"
   ]
  },
  {
   "cell_type": "code",
   "execution_count": 68,
   "id": "f4fa19ad-cca1-449b-8b8a-00bf1c0af2f3",
   "metadata": {},
   "outputs": [],
   "source": [
    "torch.save(Trained_student.state_dict(), \"saved_models/Student.pt\")"
   ]
  },
  {
   "cell_type": "markdown",
   "id": "12ba4898-4e05-4307-8166-0b2f89dc58f8",
   "metadata": {},
   "source": [
    "## Test on Imagenet"
   ]
  },
  {
   "cell_type": "code",
   "execution_count": 69,
   "id": "9ac0e23e-6332-4e83-a554-f5c7339c1e61",
   "metadata": {},
   "outputs": [
    {
     "name": "stdout",
     "output_type": "stream",
     "text": [
      "Accuracy of the model on the Training images: 19.4\n"
     ]
    }
   ],
   "source": [
    "test_model(model=Trained_student, loader=student_dataloader, device=device)"
   ]
  },
  {
   "cell_type": "markdown",
   "id": "a8caef41-ae81-41f2-8eb9-a67b4064bb07",
   "metadata": {},
   "source": [
    "# Evaluate all models on ImageNet"
   ]
  },
  {
   "cell_type": "markdown",
   "id": "fdaceb86-3f88-4c65-86a7-b3b4944c387b",
   "metadata": {},
   "source": [
    "## Teacher"
   ]
  },
  {
   "cell_type": "code",
   "execution_count": 68,
   "id": "18ffbf8e-7ba6-4ef9-87ce-aa62e0532bd7",
   "metadata": {
    "scrolled": true
   },
   "outputs": [
    {
     "name": "stderr",
     "output_type": "stream",
     "text": [
      "/Users/davidhernandez/Desktop/Nordling_Lab/KD_IG_Code/PyTorch_CIFAR10/cifar10_models/mobilenetv2.py:138: FutureWarning: You are using `torch.load` with `weights_only=False` (the current default value), which uses the default pickle module implicitly. It is possible to construct malicious pickle data which will execute arbitrary code during unpickling (See https://github.com/pytorch/pytorch/blob/main/SECURITY.md#untrusted-models for more details). In a future release, the default value for `weights_only` will be flipped to `True`. This limits the functions that could be executed during unpickling. Arbitrary objects will no longer be allowed to be loaded via this mode unless they are explicitly allowlisted by the user via `torch.serialization.add_safe_globals`. We recommend you start setting `weights_only=True` for any use case where you don't have full control of the loaded file. Please open an issue on GitHub for any issues related to this experimental feature.\n",
      "  state_dict = torch.load(\n"
     ]
    },
    {
     "name": "stdout",
     "output_type": "stream",
     "text": [
      "Accuracy of the model on the Training images: 100.0\n",
      "Class-wise Accuracy:\n",
      "Class 0: 100.00%\n",
      "Class 1: 100.00%\n",
      "Class 2: 100.00%\n",
      "Class 3: 100.00%\n",
      "Class 4: 0.00%\n",
      "Class 5: 100.00%\n",
      "Class 6: 100.00%\n",
      "Class 7: 0.00%\n",
      "Class 8: 100.00%\n",
      "Class 9: 100.00%\n",
      "\n",
      "Balanced Accuracy: 1.0000\n",
      "Cohen's Kappa: 1.0000\n"
     ]
    }
   ],
   "source": [
    "Teacher = mobilenet_v2(pretrained=True)\n",
    "Teacher.to(device)\n",
    "\n",
    "acc = test_model(model=Teacher, loader=filtered_dataloader, device=device)\n",
    "\n",
    "metrics = evaluate_model_performance(model=Teacher, dataloader=filtered_dataloader, device=device, num_classes=10)\n",
    "# Print class accuracy\n",
    "print(\"Class-wise Accuracy:\")\n",
    "for class_idx, accuracy in metrics[\"class_accuracy\"].items():\n",
    "    print(f\"Class {class_idx}: {accuracy:.2f}%\")\n",
    "\n",
    "# # Print F1-Score report\n",
    "# print(\"\\nF1-Score Report:\")\n",
    "# for class_idx, report in metrics[\"f1_report\"].items():\n",
    "#     if isinstance(report, dict):  # Ensure we're only printing relevant class-wise details\n",
    "#         print(f\"Class {class_idx}: {report}\")\n",
    "\n",
    "# Print other metrics\n",
    "print(f\"\\nBalanced Accuracy: {metrics['balanced_accuracy']:.4f}\")\n",
    "print(f\"Cohen's Kappa: {metrics['cohen_kappa']:.4f}\")\n",
    "# print(\"\\nConfusion Matrix:\")\n",
    "# print(metrics[\"confusion_matrix\"])"
   ]
  },
  {
   "cell_type": "code",
   "execution_count": 69,
   "id": "15e1fbd5-4987-4421-a23a-b16f17c1cbb5",
   "metadata": {},
   "outputs": [
    {
     "name": "stdout",
     "output_type": "stream",
     "text": [
      "Accuracy of the model on the Training images: 78.73904438789936\n",
      "Class-wise Accuracy:\n",
      "Class 0: 94.44%\n",
      "Class 1: 75.33%\n",
      "Class 2: 75.06%\n",
      "Class 3: 85.71%\n",
      "Class 4: 0.00%\n",
      "Class 5: 84.73%\n",
      "Class 6: 89.90%\n",
      "Class 7: 0.00%\n",
      "Class 8: 86.60%\n",
      "Class 9: 93.94%\n",
      "\n",
      "Balanced Accuracy: 0.8571\n",
      "Cohen's Kappa: 0.6941\n"
     ]
    },
    {
     "name": "stderr",
     "output_type": "stream",
     "text": [
      "/Users/davidhernandez/anaconda3/envs/torchm1/lib/python3.12/site-packages/sklearn/metrics/_classification.py:2480: UserWarning: y_pred contains classes not in y_true\n",
      "  warnings.warn(\"y_pred contains classes not in y_true\")\n"
     ]
    }
   ],
   "source": [
    "acc = test_model(model=KD_IG, loader=filtered_student_dataloader, device=device)\n",
    "\n",
    "metrics = evaluate_model_performance(model=KD_IG, dataloader=filtered_student_dataloader, device=device, num_classes=10)\n",
    "# Print class accuracy\n",
    "print(\"Class-wise Accuracy:\")\n",
    "for class_idx, accuracy in metrics[\"class_accuracy\"].items():\n",
    "    print(f\"Class {class_idx}: {accuracy:.2f}%\")\n",
    "\n",
    "# # Print F1-Score report\n",
    "# print(\"\\nF1-Score Report:\")\n",
    "# for class_idx, report in metrics[\"f1_report\"].items():\n",
    "#     if isinstance(report, dict):  # Ensure we're only printing relevant class-wise details\n",
    "#         print(f\"Class {class_idx}: {report}\")\n",
    "\n",
    "# Print other metrics\n",
    "print(f\"\\nBalanced Accuracy: {metrics['balanced_accuracy']:.4f}\")\n",
    "print(f\"Cohen's Kappa: {metrics['cohen_kappa']:.4f}\")\n",
    "# print(\"\\nConfusion Matrix:\")\n",
    "# print(metrics[\"confusion_matrix\"])"
   ]
  },
  {
   "cell_type": "code",
   "execution_count": 71,
   "id": "0645f15c",
   "metadata": {},
   "outputs": [
    {
     "name": "stdout",
     "output_type": "stream",
     "text": [
      "Accuracy of the model on the Testing images: 78.28668363019509 %\n",
      "Class-wise Accuracy:\n",
      "Class 0: 95.24%\n",
      "Class 1: 77.19%\n",
      "Class 2: 73.98%\n",
      "Class 3: 85.22%\n",
      "Class 4: 0.00%\n",
      "Class 5: 85.01%\n",
      "Class 6: 87.88%\n",
      "Class 7: 0.00%\n",
      "Class 8: 89.69%\n",
      "Class 9: 86.36%\n",
      "\n",
      "Balanced Accuracy: 0.8507\n",
      "Cohen's Kappa: 0.6884\n"
     ]
    },
    {
     "name": "stderr",
     "output_type": "stream",
     "text": [
      "/Users/davidhernandez/anaconda3/envs/torchm1/lib/python3.12/site-packages/sklearn/metrics/_classification.py:2480: UserWarning: y_pred contains classes not in y_true\n",
      "  warnings.warn(\"y_pred contains classes not in y_true\")\n"
     ]
    }
   ],
   "source": [
    "acc = test_model_att(model=KD_IG_AT, loader=filtered_student_dataloader, device=device)\n",
    "\n",
    "metrics = evaluate_model_performance(model=KD_IG_AT, dataloader=filtered_student_dataloader, device=device, num_classes=10, attn=True)\n",
    "# Print class accuracy\n",
    "print(\"Class-wise Accuracy:\")\n",
    "for class_idx, accuracy in metrics[\"class_accuracy\"].items():\n",
    "    print(f\"Class {class_idx}: {accuracy:.2f}%\")\n",
    "\n",
    "# # Print F1-Score report\n",
    "# print(\"\\nF1-Score Report:\")\n",
    "# for class_idx, report in metrics[\"f1_report\"].items():\n",
    "#     if isinstance(report, dict):  # Ensure we're only printing relevant class-wise details\n",
    "#         print(f\"Class {class_idx}: {report}\")\n",
    "\n",
    "# Print other metrics\n",
    "print(f\"\\nBalanced Accuracy: {metrics['balanced_accuracy']:.4f}\")\n",
    "print(f\"Cohen's Kappa: {metrics['cohen_kappa']:.4f}\")\n",
    "# print(\"\\nConfusion Matrix:\")\n",
    "# print(metrics[\"confusion_matrix\"])"
   ]
  },
  {
   "cell_type": "code",
   "execution_count": 72,
   "id": "554b6844-eebb-4d87-9d40-14f6dc7bc401",
   "metadata": {},
   "outputs": [
    {
     "name": "stdout",
     "output_type": "stream",
     "text": [
      "Accuracy of the model on the Training images: 82.32965790217699\n",
      "Class-wise Accuracy:\n",
      "Class 0: 97.62%\n",
      "Class 1: 86.47%\n",
      "Class 2: 80.38%\n",
      "Class 3: 83.74%\n",
      "Class 4: 0.00%\n",
      "Class 5: 81.84%\n",
      "Class 6: 80.81%\n",
      "Class 7: 0.00%\n",
      "Class 8: 84.54%\n",
      "Class 9: 86.36%\n",
      "\n",
      "Balanced Accuracy: 0.8522\n",
      "Cohen's Kappa: 0.7376\n"
     ]
    },
    {
     "name": "stderr",
     "output_type": "stream",
     "text": [
      "/Users/davidhernandez/anaconda3/envs/torchm1/lib/python3.12/site-packages/sklearn/metrics/_classification.py:2480: UserWarning: y_pred contains classes not in y_true\n",
      "  warnings.warn(\"y_pred contains classes not in y_true\")\n"
     ]
    }
   ],
   "source": [
    "acc = test_model(model=IG, loader=filtered_student_dataloader, device=device)\n",
    "\n",
    "metrics = evaluate_model_performance(model=IG, dataloader=filtered_student_dataloader, device=device, num_classes=10)\n",
    "# Print class accuracy\n",
    "print(\"Class-wise Accuracy:\")\n",
    "for class_idx, accuracy in metrics[\"class_accuracy\"].items():\n",
    "    print(f\"Class {class_idx}: {accuracy:.2f}%\")\n",
    "\n",
    "# # Print F1-Score report\n",
    "# print(\"\\nF1-Score Report:\")\n",
    "# for class_idx, report in metrics[\"f1_report\"].items():\n",
    "#     if isinstance(report, dict):  # Ensure we're only printing relevant class-wise details\n",
    "#         print(f\"Class {class_idx}: {report}\")\n",
    "\n",
    "# Print other metrics\n",
    "print(f\"\\nBalanced Accuracy: {metrics['balanced_accuracy']:.4f}\")\n",
    "print(f\"Cohen's Kappa: {metrics['cohen_kappa']:.4f}\")\n",
    "# print(\"\\nConfusion Matrix:\")\n",
    "# print(metrics[\"confusion_matrix\"])"
   ]
  },
  {
   "cell_type": "code",
   "execution_count": 73,
   "id": "9d2d2fbf-5805-4df9-abd7-58d9d739e339",
   "metadata": {},
   "outputs": [
    {
     "name": "stdout",
     "output_type": "stream",
     "text": [
      "Accuracy of the model on the Training images: 81.62284421826406\n",
      "Class-wise Accuracy:\n",
      "Class 0: 92.86%\n",
      "Class 1: 74.80%\n",
      "Class 2: 80.19%\n",
      "Class 3: 87.68%\n",
      "Class 4: 0.00%\n",
      "Class 5: 86.46%\n",
      "Class 6: 81.82%\n",
      "Class 7: 0.00%\n",
      "Class 8: 85.05%\n",
      "Class 9: 90.91%\n",
      "\n",
      "Balanced Accuracy: 0.8497\n",
      "Cohen's Kappa: 0.7277\n"
     ]
    },
    {
     "name": "stderr",
     "output_type": "stream",
     "text": [
      "/Users/davidhernandez/anaconda3/envs/torchm1/lib/python3.12/site-packages/sklearn/metrics/_classification.py:2480: UserWarning: y_pred contains classes not in y_true\n",
      "  warnings.warn(\"y_pred contains classes not in y_true\")\n"
     ]
    }
   ],
   "source": [
    "acc = test_model(model=KD, loader=filtered_student_dataloader, device=device)\n",
    "\n",
    "metrics = evaluate_model_performance(model=KD, dataloader=filtered_student_dataloader, device=device, num_classes=10)\n",
    "# Print class accuracy\n",
    "print(\"Class-wise Accuracy:\")\n",
    "for class_idx, accuracy in metrics[\"class_accuracy\"].items():\n",
    "    print(f\"Class {class_idx}: {accuracy:.2f}%\")\n",
    "\n",
    "# # Print F1-Score report\n",
    "# print(\"\\nF1-Score Report:\")\n",
    "# for class_idx, report in metrics[\"f1_report\"].items():\n",
    "#     if isinstance(report, dict):  # Ensure we're only printing relevant class-wise details\n",
    "#         print(f\"Class {class_idx}: {report}\")\n",
    "\n",
    "# Print other metrics\n",
    "print(f\"\\nBalanced Accuracy: {metrics['balanced_accuracy']:.4f}\")\n",
    "print(f\"Cohen's Kappa: {metrics['cohen_kappa']:.4f}\")\n",
    "# print(\"\\nConfusion Matrix:\")\n",
    "# print(metrics[\"confusion_matrix\"])"
   ]
  },
  {
   "cell_type": "code",
   "execution_count": 74,
   "id": "302b101f-9c78-4147-b824-4a1b5a7d70a5",
   "metadata": {},
   "outputs": [
    {
     "name": "stdout",
     "output_type": "stream",
     "text": [
      "Accuracy of the model on the Training images: 80.88775798699463\n",
      "Class-wise Accuracy:\n",
      "Class 0: 96.03%\n",
      "Class 1: 72.94%\n",
      "Class 2: 80.75%\n",
      "Class 3: 82.27%\n",
      "Class 4: 0.00%\n",
      "Class 5: 78.96%\n",
      "Class 6: 84.85%\n",
      "Class 7: 0.00%\n",
      "Class 8: 85.05%\n",
      "Class 9: 89.39%\n",
      "\n",
      "Balanced Accuracy: 0.8378\n",
      "Cohen's Kappa: 0.7155\n"
     ]
    },
    {
     "name": "stderr",
     "output_type": "stream",
     "text": [
      "/Users/davidhernandez/anaconda3/envs/torchm1/lib/python3.12/site-packages/sklearn/metrics/_classification.py:2480: UserWarning: y_pred contains classes not in y_true\n",
      "  warnings.warn(\"y_pred contains classes not in y_true\")\n"
     ]
    }
   ],
   "source": [
    "Student = SmallerMobileNet(mobilenet_v2(pretrained=False))\n",
    "Student.to(device)\n",
    "\n",
    "Student.load_state_dict(torch.load(\"../saved_models/Student.pt\", weights_only=True, map_location=device))\n",
    "\n",
    "acc = test_model(model=Student, loader=filtered_student_dataloader, device=device)\n",
    "\n",
    "metrics = evaluate_model_performance(model=Student, dataloader=filtered_student_dataloader, device=device, num_classes=10)\n",
    "# Print class accuracy\n",
    "print(\"Class-wise Accuracy:\")\n",
    "for class_idx, accuracy in metrics[\"class_accuracy\"].items():\n",
    "    print(f\"Class {class_idx}: {accuracy:.2f}%\")\n",
    "\n",
    "# # Print F1-Score report\n",
    "# print(\"\\nF1-Score Report:\")\n",
    "# for class_idx, report in metrics[\"f1_report\"].items():\n",
    "#     if isinstance(report, dict):  # Ensure we're only printing relevant class-wise details\n",
    "#         print(f\"Class {class_idx}: {report}\")\n",
    "\n",
    "# Print other metrics\n",
    "print(f\"\\nBalanced Accuracy: {metrics['balanced_accuracy']:.4f}\")\n",
    "print(f\"Cohen's Kappa: {metrics['cohen_kappa']:.4f}\")\n",
    "# print(\"\\nConfusion Matrix:\")\n",
    "# print(metrics[\"confusion_matrix\"])"
   ]
  },
  {
   "cell_type": "markdown",
   "id": "e86660e1",
   "metadata": {},
   "source": [
    "# ImageNet Evaluation Plot"
   ]
  },
  {
   "cell_type": "code",
   "execution_count": 76,
   "id": "2662b928",
   "metadata": {},
   "outputs": [
    {
     "data": {
      "image/png": "[encoded data removed]",
      "text/plain": [
       "<Figure size 1200x800 with 1 Axes>"
      ]
     },
     "metadata": {},
     "output_type": "display_data"
    }
   ],
   "source": [
    "plt.figure(figsize=(12,8))\n",
    "plt.rcParams['font.family'] = 'Times New Roman'\n",
    "plt.rcParams['font.size'] = 14\n",
    "methods = ['KD & IG', \"KD & IG & AT\", \"IG\", 'KD', 'Student']\n",
    "method = np.arange(len(methods))\n",
    "imagenet_acc = [78.74, 82.33, 78.29, 81.62, 80.89]\n",
    "balanced_acc = [85.71, 85.22, 85.07, 84.97, 83.78]\n",
    "plt.bar(method - 0.2, imagenet_acc, 0.4, label = 'Accuracy')\n",
    "plt.bar(method + 0.2, balanced_acc, 0.4, label = 'Balanced Accuracy')\n",
    "# plt.axhline(100, color='red', label='Teacher', linestyle='dashed')\n",
    "plt.legend()\n",
    "plt.xticks(method, methods, rotation=0)\n",
    "plt.ylabel(\"Accuracy (%)\")\n",
    "plt.ylim(75, 90)\n",
    "for i in range(len(method)):\n",
    "    plt.text(i - 0.2, imagenet_acc[i], imagenet_acc[i], ha = 'center')\n",
    "    plt.text(i + 0.2, balanced_acc[i], balanced_acc[i], ha = 'center')\n",
    "plt.savefig(\"Hernandez2024_ImageNet_evaluation.pdf\")\n",
    "plt.show()"
   ]
  }
 ],
 "metadata": {
  "kernelspec": {
   "display_name": "torchm1",
   "language": "python",
   "name": "python3"
  },
  "language_info": {
   "codemirror_mode": {
    "name": "ipython",
    "version": 3
   },
   "file_extension": ".py",
   "mimetype": "text/x-python",
   "name": "python",
   "nbconvert_exporter": "python",
   "pygments_lexer": "ipython3",
   "version": "3.12.7"
  }
 },
 "nbformat": 4,
 "nbformat_minor": 5
}
