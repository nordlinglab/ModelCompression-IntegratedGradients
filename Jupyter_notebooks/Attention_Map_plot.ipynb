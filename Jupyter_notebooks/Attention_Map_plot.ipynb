{
 "cells": [
  {
   "cell_type": "code",
   "execution_count": 1,
   "id": "6a620908-3beb-4ea3-8e16-dd5bdd5280bf",
   "metadata": {},
   "outputs": [],
   "source": [
    "import numpy as np  # type:ignore\n",
    "import pandas as pd  # type:ignore\n",
    "import torch  # type:ignore\n",
    "from torch.utils.data import DataLoader  # type:ignore\n",
    "from torchvision import transforms  # type:ignore\n",
    "from torchvision.datasets import CIFAR10  # type:ignore\n",
    "import sys\n",
    "sys.path.append(\"../\")\n",
    "from PyTorch_CIFAR10.cifar10_models.mobilenetv2 import mobilenet_v2\n",
    "from PyTorch_CIFAR10.UTILS_TORCH import *"
   ]
  },
  {
   "cell_type": "code",
   "execution_count": 2,
   "id": "0ad56af0-7014-417c-a5f3-28ce5a576d7c",
   "metadata": {},
   "outputs": [
    {
     "name": "stdout",
     "output_type": "stream",
     "text": [
      "Currently using: 'mps'\n"
     ]
    }
   ],
   "source": [
    "device = torch.device(\"mps\" if torch.mps.is_available() else \"cpu\")\n",
    "print(f\"Currently using: '{device}'\")"
   ]
  },
  {
   "cell_type": "code",
   "execution_count": 3,
   "id": "9f526e09-095d-4641-aaca-c5d1be86cb5a",
   "metadata": {},
   "outputs": [],
   "source": [
    "# Hyperparameters\n",
    "NUM_EPOCHS = 100\n",
    "BATCH_SIZE = 64\n",
    "LEARN_RATE = 0.001\n",
    "ALPHA = 0.01  # distillation_loss\n",
    "TEMP = 2.5\n",
    "OVERLAY_PROB = 0.1\n",
    "GAMMAS = [0.5]\n",
    "# GAMMAS = [0.1, 0.25, 0.5, 0.75, 0.9]\n",
    "NUM_WORKERS = 10\n",
    "# SAVE = \"Histories/Results/AT.csv\"\n",
    "IGS = \"../../../ML/PyTorch_CIFAR10/data/Captum_IGs.npy\""
   ]
  },
  {
   "cell_type": "code",
   "execution_count": 4,
   "id": "dc3b7956-5842-4ca3-b1a6-f5a62beb0ed2",
   "metadata": {},
   "outputs": [
    {
     "name": "stdout",
     "output_type": "stream",
     "text": [
      "Shape of teacher_logits: (50000, 10)\n",
      "Shape of teacher_logits: (50000, 8, 8)\n"
     ]
    }
   ],
   "source": [
    "precomputed_logits = np.load(\"../../../ML/PyTorch_CIFAR10/data/cifar10_logits.npy\")\n",
    "print(\"Shape of teacher_logits:\", precomputed_logits.shape)\n",
    "\n",
    "precomputed_attn = np.load(\"../../../ML/PyTorch_CIFAR10/data/cifar10_attention_maps.npy\")\n",
    "print(\"Shape of teacher_logits:\", precomputed_attn.shape)\n",
    "\n",
    "igs = np.load(IGS)"
   ]
  },
  {
   "cell_type": "code",
   "execution_count": 5,
   "id": "3a7f34f4-3a38-43a4-8e14-6f43ffaef9dc",
   "metadata": {},
   "outputs": [],
   "source": [
    "transform = transforms.Compose(\n",
    "    [\n",
    "        transforms.ToTensor(),\n",
    "        # transforms.Normalize(\n",
    "        #     mean=[0.4914, 0.4822, 0.4465], std=[0.2471, 0.2435, 0.2616]\n",
    "        # ),\n",
    "    ]\n",
    ")\n",
    "\n",
    "student_aug = transforms.Compose(\n",
    "    [\n",
    "        transforms.RandomCrop(32, padding=4),\n",
    "        transforms.RandomHorizontalFlip(),\n",
    "        transforms.ToTensor(),\n",
    "        # transforms.Normalize(\n",
    "        #     mean=[0.4914, 0.4822, 0.4465], std=[0.2471, 0.2435, 0.2616]\n",
    "        # ),\n",
    "    ]\n",
    ")"
   ]
  },
  {
   "cell_type": "code",
   "execution_count": 6,
   "id": "9e2bfcac-5100-4931-ac70-0e1af683e456",
   "metadata": {},
   "outputs": [],
   "source": [
    "train_dataset = CIFAR10WithIG(\n",
    "    igs=igs,\n",
    "    root=\"../../../ML/PyTorch_CIFAR10/data\",\n",
    "    train=True,\n",
    "    transform=student_aug,\n",
    "    overlay_prob=OVERLAY_PROB,\n",
    "    return_ig=False,\n",
    "    precomputed_logits=precomputed_logits,\n",
    "    precomputed_attn=precomputed_attn,\n",
    ")\n",
    "\n",
    "# Load the data into batches\n",
    "train_loader = DataLoader(\n",
    "    train_dataset,\n",
    "    batch_size=BATCH_SIZE,\n",
    "    shuffle=True,\n",
    "    num_workers=NUM_WORKERS,\n",
    "    pin_memory=False,\n",
    "    persistent_workers=True,\n",
    ")\n",
    "\n",
    "# load student data\n",
    "test_data = CIFAR10(\n",
    "    root=\"../../../ML/PyTorch_CIFAR10/data\",\n",
    "    train=False,\n",
    "    download=False,\n",
    "    transform=transform,\n",
    ")\n",
    "\n",
    "test_loader = DataLoader(\n",
    "    test_data,\n",
    "    batch_size=BATCH_SIZE,\n",
    "    shuffle=False,\n",
    "    num_workers=NUM_WORKERS,\n",
    "    pin_memory=False,\n",
    "    persistent_workers=True,\n",
    ")"
   ]
  },
  {
   "cell_type": "code",
   "execution_count": 7,
   "id": "2891d4c5-1aa0-45e4-b154-5e40eb3150c9",
   "metadata": {},
   "outputs": [],
   "source": [
    "Student = ModifiedStudent(mobilenet_v2(pretrained=False))\n",
    "Student.to(device);"
   ]
  },
  {
   "cell_type": "code",
   "execution_count": 8,
   "id": "ebfa4b8e-debb-4463-bb38-622070cbb6f8",
   "metadata": {
    "scrolled": true
   },
   "outputs": [
    {
     "name": "stderr",
     "output_type": "stream",
     "text": [
      "Epoch 1/100:   0%|          | 0/782 [00:00<?, ?it/s]/Users/davidhernandez/anaconda3/envs/torchm1/lib/python3.12/site-packages/torch/nn/_reduction.py:51: UserWarning: size_average and reduce args will be deprecated, please use reduction='sum' instead.\n",
      "  warnings.warn(warning.format(ret))\n",
      "                                                                                            \r"
     ]
    },
    {
     "name": "stdout",
     "output_type": "stream",
     "text": [
      "Epoch 1/100: Loss: 1.4865,            Accuracy: 47.21%\n"
     ]
    },
    {
     "name": "stderr",
     "output_type": "stream",
     "text": [
      "                                                                                            \r"
     ]
    },
    {
     "name": "stdout",
     "output_type": "stream",
     "text": [
      "Epoch 2/100: Loss: 1.0430,            Accuracy: 65.16%\n"
     ]
    },
    {
     "name": "stderr",
     "output_type": "stream",
     "text": [
      "                                                                                            \r"
     ]
    },
    {
     "name": "stdout",
     "output_type": "stream",
     "text": [
      "Epoch 3/100: Loss: 0.8612,            Accuracy: 72.36%\n"
     ]
    },
    {
     "name": "stderr",
     "output_type": "stream",
     "text": [
      "                                                                                            \r"
     ]
    },
    {
     "name": "stdout",
     "output_type": "stream",
     "text": [
      "Epoch 4/100: Loss: 0.7577,            Accuracy: 76.26%\n"
     ]
    },
    {
     "name": "stderr",
     "output_type": "stream",
     "text": [
      "                                                                                            \r"
     ]
    },
    {
     "name": "stdout",
     "output_type": "stream",
     "text": [
      "Epoch 5/100: Loss: 0.6999,            Accuracy: 78.27%\n"
     ]
    },
    {
     "name": "stderr",
     "output_type": "stream",
     "text": [
      "                                                                                            \r"
     ]
    },
    {
     "name": "stdout",
     "output_type": "stream",
     "text": [
      "Epoch 6/100: Loss: 0.6502,            Accuracy: 80.12%\n"
     ]
    },
    {
     "name": "stderr",
     "output_type": "stream",
     "text": [
      "                                                                                            \r"
     ]
    },
    {
     "name": "stdout",
     "output_type": "stream",
     "text": [
      "Epoch 7/100: Loss: 0.6114,            Accuracy: 81.68%\n"
     ]
    },
    {
     "name": "stderr",
     "output_type": "stream",
     "text": [
      "                                                                                            \r"
     ]
    },
    {
     "name": "stdout",
     "output_type": "stream",
     "text": [
      "Epoch 8/100: Loss: 0.5783,            Accuracy: 82.87%\n"
     ]
    },
    {
     "name": "stderr",
     "output_type": "stream",
     "text": [
      "                                                                                            \r"
     ]
    },
    {
     "name": "stdout",
     "output_type": "stream",
     "text": [
      "Epoch 9/100: Loss: 0.5454,            Accuracy: 84.00%\n"
     ]
    },
    {
     "name": "stderr",
     "output_type": "stream",
     "text": [
      "                                                                                             \r"
     ]
    },
    {
     "name": "stdout",
     "output_type": "stream",
     "text": [
      "Epoch 10/100: Loss: 0.5197,            Accuracy: 85.00%\n"
     ]
    },
    {
     "name": "stderr",
     "output_type": "stream",
     "text": [
      "                                                                                             \r"
     ]
    },
    {
     "name": "stdout",
     "output_type": "stream",
     "text": [
      "Epoch 11/100: Loss: 0.4976,            Accuracy: 85.79%\n"
     ]
    },
    {
     "name": "stderr",
     "output_type": "stream",
     "text": [
      "                                                                                             \r"
     ]
    },
    {
     "name": "stdout",
     "output_type": "stream",
     "text": [
      "Epoch 12/100: Loss: 0.4766,            Accuracy: 86.52%\n"
     ]
    },
    {
     "name": "stderr",
     "output_type": "stream",
     "text": [
      "                                                                                             \r"
     ]
    },
    {
     "name": "stdout",
     "output_type": "stream",
     "text": [
      "Epoch 13/100: Loss: 0.4604,            Accuracy: 87.23%\n"
     ]
    },
    {
     "name": "stderr",
     "output_type": "stream",
     "text": [
      "                                                                                             \r"
     ]
    },
    {
     "name": "stdout",
     "output_type": "stream",
     "text": [
      "Epoch 14/100: Loss: 0.4449,            Accuracy: 87.76%\n"
     ]
    },
    {
     "name": "stderr",
     "output_type": "stream",
     "text": [
      "                                                                                             \r"
     ]
    },
    {
     "name": "stdout",
     "output_type": "stream",
     "text": [
      "Epoch 15/100: Loss: 0.4305,            Accuracy: 88.18%\n"
     ]
    },
    {
     "name": "stderr",
     "output_type": "stream",
     "text": [
      "                                                                                             \r"
     ]
    },
    {
     "name": "stdout",
     "output_type": "stream",
     "text": [
      "Epoch 16/100: Loss: 0.4172,            Accuracy: 88.73%\n"
     ]
    },
    {
     "name": "stderr",
     "output_type": "stream",
     "text": [
      "                                                                                             \r"
     ]
    },
    {
     "name": "stdout",
     "output_type": "stream",
     "text": [
      "Epoch 17/100: Loss: 0.4051,            Accuracy: 89.11%\n"
     ]
    },
    {
     "name": "stderr",
     "output_type": "stream",
     "text": [
      "                                                                                             \r"
     ]
    },
    {
     "name": "stdout",
     "output_type": "stream",
     "text": [
      "Epoch 18/100: Loss: 0.3918,            Accuracy: 89.59%\n"
     ]
    },
    {
     "name": "stderr",
     "output_type": "stream",
     "text": [
      "                                                                                             \r"
     ]
    },
    {
     "name": "stdout",
     "output_type": "stream",
     "text": [
      "Epoch 19/100: Loss: 0.3790,            Accuracy: 90.15%\n"
     ]
    },
    {
     "name": "stderr",
     "output_type": "stream",
     "text": [
      "                                                                                             \r"
     ]
    },
    {
     "name": "stdout",
     "output_type": "stream",
     "text": [
      "Epoch 20/100: Loss: 0.3710,            Accuracy: 90.36%\n"
     ]
    },
    {
     "name": "stderr",
     "output_type": "stream",
     "text": [
      "                                                                                             \r"
     ]
    },
    {
     "name": "stdout",
     "output_type": "stream",
     "text": [
      "Epoch 21/100: Loss: 0.3598,            Accuracy: 90.76%\n"
     ]
    },
    {
     "name": "stderr",
     "output_type": "stream",
     "text": [
      "                                                                                             \r"
     ]
    },
    {
     "name": "stdout",
     "output_type": "stream",
     "text": [
      "Epoch 22/100: Loss: 0.3479,            Accuracy: 91.15%\n"
     ]
    },
    {
     "name": "stderr",
     "output_type": "stream",
     "text": [
      "                                                                                             \r"
     ]
    },
    {
     "name": "stdout",
     "output_type": "stream",
     "text": [
      "Epoch 23/100: Loss: 0.3404,            Accuracy: 91.35%\n"
     ]
    },
    {
     "name": "stderr",
     "output_type": "stream",
     "text": [
      "                                                                                             \r"
     ]
    },
    {
     "name": "stdout",
     "output_type": "stream",
     "text": [
      "Epoch 24/100: Loss: 0.3339,            Accuracy: 91.74%\n"
     ]
    },
    {
     "name": "stderr",
     "output_type": "stream",
     "text": [
      "                                                                                             \r"
     ]
    },
    {
     "name": "stdout",
     "output_type": "stream",
     "text": [
      "Epoch 25/100: Loss: 0.3282,            Accuracy: 91.94%\n"
     ]
    },
    {
     "name": "stderr",
     "output_type": "stream",
     "text": [
      "                                                                                             \r"
     ]
    },
    {
     "name": "stdout",
     "output_type": "stream",
     "text": [
      "Epoch 26/100: Loss: 0.3184,            Accuracy: 92.22%\n"
     ]
    },
    {
     "name": "stderr",
     "output_type": "stream",
     "text": [
      "                                                                                             \r"
     ]
    },
    {
     "name": "stdout",
     "output_type": "stream",
     "text": [
      "Epoch 27/100: Loss: 0.3098,            Accuracy: 92.59%\n"
     ]
    },
    {
     "name": "stderr",
     "output_type": "stream",
     "text": [
      "                                                                                             \r"
     ]
    },
    {
     "name": "stdout",
     "output_type": "stream",
     "text": [
      "Epoch 28/100: Loss: 0.3028,            Accuracy: 92.90%\n"
     ]
    },
    {
     "name": "stderr",
     "output_type": "stream",
     "text": [
      "                                                                                             \r"
     ]
    },
    {
     "name": "stdout",
     "output_type": "stream",
     "text": [
      "Epoch 29/100: Loss: 0.2970,            Accuracy: 92.97%\n"
     ]
    },
    {
     "name": "stderr",
     "output_type": "stream",
     "text": [
      "                                                                                             \r"
     ]
    },
    {
     "name": "stdout",
     "output_type": "stream",
     "text": [
      "Epoch 30/100: Loss: 0.2940,            Accuracy: 93.11%\n"
     ]
    },
    {
     "name": "stderr",
     "output_type": "stream",
     "text": [
      "                                                                                             \r"
     ]
    },
    {
     "name": "stdout",
     "output_type": "stream",
     "text": [
      "Epoch 31/100: Loss: 0.2878,            Accuracy: 93.37%\n"
     ]
    },
    {
     "name": "stderr",
     "output_type": "stream",
     "text": [
      "                                                                                             \r"
     ]
    },
    {
     "name": "stdout",
     "output_type": "stream",
     "text": [
      "Epoch 32/100: Loss: 0.2847,            Accuracy: 93.34%\n"
     ]
    },
    {
     "name": "stderr",
     "output_type": "stream",
     "text": [
      "                                                                                             \r"
     ]
    },
    {
     "name": "stdout",
     "output_type": "stream",
     "text": [
      "Epoch 33/100: Loss: 0.2749,            Accuracy: 93.87%\n"
     ]
    },
    {
     "name": "stderr",
     "output_type": "stream",
     "text": [
      "                                                                                             \r"
     ]
    },
    {
     "name": "stdout",
     "output_type": "stream",
     "text": [
      "Epoch 34/100: Loss: 0.2730,            Accuracy: 93.95%\n"
     ]
    },
    {
     "name": "stderr",
     "output_type": "stream",
     "text": [
      "                                                                                             \r"
     ]
    },
    {
     "name": "stdout",
     "output_type": "stream",
     "text": [
      "Epoch 35/100: Loss: 0.2681,            Accuracy: 94.06%\n"
     ]
    },
    {
     "name": "stderr",
     "output_type": "stream",
     "text": [
      "                                                                                             \r"
     ]
    },
    {
     "name": "stdout",
     "output_type": "stream",
     "text": [
      "Epoch 36/100: Loss: 0.2620,            Accuracy: 94.31%\n"
     ]
    },
    {
     "name": "stderr",
     "output_type": "stream",
     "text": [
      "                                                                                             \r"
     ]
    },
    {
     "name": "stdout",
     "output_type": "stream",
     "text": [
      "Epoch 37/100: Loss: 0.2566,            Accuracy: 94.52%\n"
     ]
    },
    {
     "name": "stderr",
     "output_type": "stream",
     "text": [
      "                                                                                             \r"
     ]
    },
    {
     "name": "stdout",
     "output_type": "stream",
     "text": [
      "Epoch 38/100: Loss: 0.2539,            Accuracy: 94.50%\n"
     ]
    },
    {
     "name": "stderr",
     "output_type": "stream",
     "text": [
      "                                                                                             \r"
     ]
    },
    {
     "name": "stdout",
     "output_type": "stream",
     "text": [
      "Epoch 39/100: Loss: 0.2495,            Accuracy: 94.73%\n"
     ]
    },
    {
     "name": "stderr",
     "output_type": "stream",
     "text": [
      "                                                                                             \r"
     ]
    },
    {
     "name": "stdout",
     "output_type": "stream",
     "text": [
      "Epoch 40/100: Loss: 0.2461,            Accuracy: 94.89%\n"
     ]
    },
    {
     "name": "stderr",
     "output_type": "stream",
     "text": [
      "                                                                                             \r"
     ]
    },
    {
     "name": "stdout",
     "output_type": "stream",
     "text": [
      "Epoch 41/100: Loss: 0.2419,            Accuracy: 95.04%\n"
     ]
    },
    {
     "name": "stderr",
     "output_type": "stream",
     "text": [
      "                                                                                             \r"
     ]
    },
    {
     "name": "stdout",
     "output_type": "stream",
     "text": [
      "Epoch 42/100: Loss: 0.2398,            Accuracy: 95.02%\n"
     ]
    },
    {
     "name": "stderr",
     "output_type": "stream",
     "text": [
      "                                                                                             \r"
     ]
    },
    {
     "name": "stdout",
     "output_type": "stream",
     "text": [
      "Epoch 43/100: Loss: 0.2377,            Accuracy: 95.15%\n"
     ]
    },
    {
     "name": "stderr",
     "output_type": "stream",
     "text": [
      "                                                                                             \r"
     ]
    },
    {
     "name": "stdout",
     "output_type": "stream",
     "text": [
      "Epoch 44/100: Loss: 0.2316,            Accuracy: 95.32%\n"
     ]
    },
    {
     "name": "stderr",
     "output_type": "stream",
     "text": [
      "                                                                                             \r"
     ]
    },
    {
     "name": "stdout",
     "output_type": "stream",
     "text": [
      "Epoch 45/100: Loss: 0.2289,            Accuracy: 95.56%\n"
     ]
    },
    {
     "name": "stderr",
     "output_type": "stream",
     "text": [
      "                                                                                             \r"
     ]
    },
    {
     "name": "stdout",
     "output_type": "stream",
     "text": [
      "Epoch 46/100: Loss: 0.2263,            Accuracy: 95.61%\n"
     ]
    },
    {
     "name": "stderr",
     "output_type": "stream",
     "text": [
      "                                                                                             \r"
     ]
    },
    {
     "name": "stdout",
     "output_type": "stream",
     "text": [
      "Epoch 47/100: Loss: 0.2232,            Accuracy: 95.72%\n"
     ]
    },
    {
     "name": "stderr",
     "output_type": "stream",
     "text": [
      "                                                                                             \r"
     ]
    },
    {
     "name": "stdout",
     "output_type": "stream",
     "text": [
      "Epoch 48/100: Loss: 0.2209,            Accuracy: 95.71%\n"
     ]
    },
    {
     "name": "stderr",
     "output_type": "stream",
     "text": [
      "                                                                                             \r"
     ]
    },
    {
     "name": "stdout",
     "output_type": "stream",
     "text": [
      "Epoch 49/100: Loss: 0.2186,            Accuracy: 95.82%\n"
     ]
    },
    {
     "name": "stderr",
     "output_type": "stream",
     "text": [
      "                                                                                             \r"
     ]
    },
    {
     "name": "stdout",
     "output_type": "stream",
     "text": [
      "Epoch 50/100: Loss: 0.2177,            Accuracy: 95.86%\n"
     ]
    },
    {
     "name": "stderr",
     "output_type": "stream",
     "text": [
      "                                                                                             \r"
     ]
    },
    {
     "name": "stdout",
     "output_type": "stream",
     "text": [
      "Epoch 51/100: Loss: 0.2123,            Accuracy: 96.04%\n"
     ]
    },
    {
     "name": "stderr",
     "output_type": "stream",
     "text": [
      "                                                                                             \r"
     ]
    },
    {
     "name": "stdout",
     "output_type": "stream",
     "text": [
      "Epoch 52/100: Loss: 0.2099,            Accuracy: 96.14%\n"
     ]
    },
    {
     "name": "stderr",
     "output_type": "stream",
     "text": [
      "                                                                                             \r"
     ]
    },
    {
     "name": "stdout",
     "output_type": "stream",
     "text": [
      "Epoch 53/100: Loss: 0.2076,            Accuracy: 96.26%\n"
     ]
    },
    {
     "name": "stderr",
     "output_type": "stream",
     "text": [
      "                                                                                             \r"
     ]
    },
    {
     "name": "stdout",
     "output_type": "stream",
     "text": [
      "Epoch 54/100: Loss: 0.2052,            Accuracy: 96.29%\n"
     ]
    },
    {
     "name": "stderr",
     "output_type": "stream",
     "text": [
      "                                                                                             \r"
     ]
    },
    {
     "name": "stdout",
     "output_type": "stream",
     "text": [
      "Epoch 55/100: Loss: 0.2040,            Accuracy: 96.30%\n"
     ]
    },
    {
     "name": "stderr",
     "output_type": "stream",
     "text": [
      "                                                                                             \r"
     ]
    },
    {
     "name": "stdout",
     "output_type": "stream",
     "text": [
      "Epoch 56/100: Loss: 0.2030,            Accuracy: 96.42%\n"
     ]
    },
    {
     "name": "stderr",
     "output_type": "stream",
     "text": [
      "                                                                                             \r"
     ]
    },
    {
     "name": "stdout",
     "output_type": "stream",
     "text": [
      "Epoch 57/100: Loss: 0.1973,            Accuracy: 96.57%\n"
     ]
    },
    {
     "name": "stderr",
     "output_type": "stream",
     "text": [
      "                                                                                             \r"
     ]
    },
    {
     "name": "stdout",
     "output_type": "stream",
     "text": [
      "Epoch 58/100: Loss: 0.2002,            Accuracy: 96.45%\n"
     ]
    },
    {
     "name": "stderr",
     "output_type": "stream",
     "text": [
      "                                                                                             \r"
     ]
    },
    {
     "name": "stdout",
     "output_type": "stream",
     "text": [
      "Epoch 59/100: Loss: 0.1972,            Accuracy: 96.55%\n"
     ]
    },
    {
     "name": "stderr",
     "output_type": "stream",
     "text": [
      "                                                                                             \r"
     ]
    },
    {
     "name": "stdout",
     "output_type": "stream",
     "text": [
      "Epoch 60/100: Loss: 0.1954,            Accuracy: 96.70%\n"
     ]
    },
    {
     "name": "stderr",
     "output_type": "stream",
     "text": [
      "                                                                                             \r"
     ]
    },
    {
     "name": "stdout",
     "output_type": "stream",
     "text": [
      "Epoch 61/100: Loss: 0.1941,            Accuracy: 96.74%\n"
     ]
    },
    {
     "name": "stderr",
     "output_type": "stream",
     "text": [
      "                                                                                             \r"
     ]
    },
    {
     "name": "stdout",
     "output_type": "stream",
     "text": [
      "Epoch 62/100: Loss: 0.1884,            Accuracy: 96.93%\n"
     ]
    },
    {
     "name": "stderr",
     "output_type": "stream",
     "text": [
      "                                                                                             \r"
     ]
    },
    {
     "name": "stdout",
     "output_type": "stream",
     "text": [
      "Epoch 63/100: Loss: 0.1884,            Accuracy: 96.92%\n"
     ]
    },
    {
     "name": "stderr",
     "output_type": "stream",
     "text": [
      "                                                                                             \r"
     ]
    },
    {
     "name": "stdout",
     "output_type": "stream",
     "text": [
      "Epoch 64/100: Loss: 0.1878,            Accuracy: 96.95%\n"
     ]
    },
    {
     "name": "stderr",
     "output_type": "stream",
     "text": [
      "                                                                                             \r"
     ]
    },
    {
     "name": "stdout",
     "output_type": "stream",
     "text": [
      "Epoch 65/100: Loss: 0.1852,            Accuracy: 97.01%\n"
     ]
    },
    {
     "name": "stderr",
     "output_type": "stream",
     "text": [
      "                                                                                             \r"
     ]
    },
    {
     "name": "stdout",
     "output_type": "stream",
     "text": [
      "Epoch 66/100: Loss: 0.1814,            Accuracy: 97.18%\n"
     ]
    },
    {
     "name": "stderr",
     "output_type": "stream",
     "text": [
      "                                                                                             \r"
     ]
    },
    {
     "name": "stdout",
     "output_type": "stream",
     "text": [
      "Epoch 67/100: Loss: 0.1816,            Accuracy: 97.22%\n"
     ]
    },
    {
     "name": "stderr",
     "output_type": "stream",
     "text": [
      "                                                                                             \r"
     ]
    },
    {
     "name": "stdout",
     "output_type": "stream",
     "text": [
      "Epoch 68/100: Loss: 0.1848,            Accuracy: 97.10%\n"
     ]
    },
    {
     "name": "stderr",
     "output_type": "stream",
     "text": [
      "                                                                                             \r"
     ]
    },
    {
     "name": "stdout",
     "output_type": "stream",
     "text": [
      "Epoch 69/100: Loss: 0.1789,            Accuracy: 97.31%\n"
     ]
    },
    {
     "name": "stderr",
     "output_type": "stream",
     "text": [
      "                                                                                             \r"
     ]
    },
    {
     "name": "stdout",
     "output_type": "stream",
     "text": [
      "Epoch 70/100: Loss: 0.1751,            Accuracy: 97.38%\n"
     ]
    },
    {
     "name": "stderr",
     "output_type": "stream",
     "text": [
      "                                                                                             \r"
     ]
    },
    {
     "name": "stdout",
     "output_type": "stream",
     "text": [
      "Epoch 71/100: Loss: 0.1781,            Accuracy: 97.32%\n"
     ]
    },
    {
     "name": "stderr",
     "output_type": "stream",
     "text": [
      "                                                                                             \r"
     ]
    },
    {
     "name": "stdout",
     "output_type": "stream",
     "text": [
      "Epoch 72/100: Loss: 0.1763,            Accuracy: 97.34%\n"
     ]
    },
    {
     "name": "stderr",
     "output_type": "stream",
     "text": [
      "                                                                                             \r"
     ]
    },
    {
     "name": "stdout",
     "output_type": "stream",
     "text": [
      "Epoch 73/100: Loss: 0.1749,            Accuracy: 97.31%\n"
     ]
    },
    {
     "name": "stderr",
     "output_type": "stream",
     "text": [
      "                                                                                             \r"
     ]
    },
    {
     "name": "stdout",
     "output_type": "stream",
     "text": [
      "Epoch 74/100: Loss: 0.1743,            Accuracy: 97.37%\n"
     ]
    },
    {
     "name": "stderr",
     "output_type": "stream",
     "text": [
      "                                                                                             \r"
     ]
    },
    {
     "name": "stdout",
     "output_type": "stream",
     "text": [
      "Epoch 75/100: Loss: 0.1752,            Accuracy: 97.34%\n"
     ]
    },
    {
     "name": "stderr",
     "output_type": "stream",
     "text": [
      "                                                                                             \r"
     ]
    },
    {
     "name": "stdout",
     "output_type": "stream",
     "text": [
      "Epoch 76/100: Loss: 0.1704,            Accuracy: 97.54%\n"
     ]
    },
    {
     "name": "stderr",
     "output_type": "stream",
     "text": [
      "                                                                                             \r"
     ]
    },
    {
     "name": "stdout",
     "output_type": "stream",
     "text": [
      "Epoch 77/100: Loss: 0.1674,            Accuracy: 97.60%\n"
     ]
    },
    {
     "name": "stderr",
     "output_type": "stream",
     "text": [
      "                                                                                             \r"
     ]
    },
    {
     "name": "stdout",
     "output_type": "stream",
     "text": [
      "Epoch 78/100: Loss: 0.1705,            Accuracy: 97.52%\n"
     ]
    },
    {
     "name": "stderr",
     "output_type": "stream",
     "text": [
      "                                                                                             \r"
     ]
    },
    {
     "name": "stdout",
     "output_type": "stream",
     "text": [
      "Epoch 79/100: Loss: 0.1705,            Accuracy: 97.51%\n"
     ]
    },
    {
     "name": "stderr",
     "output_type": "stream",
     "text": [
      "                                                                                             \r"
     ]
    },
    {
     "name": "stdout",
     "output_type": "stream",
     "text": [
      "Epoch 80/100: Loss: 0.1641,            Accuracy: 97.69%\n"
     ]
    },
    {
     "name": "stderr",
     "output_type": "stream",
     "text": [
      "                                                                                             \r"
     ]
    },
    {
     "name": "stdout",
     "output_type": "stream",
     "text": [
      "Epoch 81/100: Loss: 0.1664,            Accuracy: 97.73%\n"
     ]
    },
    {
     "name": "stderr",
     "output_type": "stream",
     "text": [
      "                                                                                             \r"
     ]
    },
    {
     "name": "stdout",
     "output_type": "stream",
     "text": [
      "Epoch 82/100: Loss: 0.1678,            Accuracy: 97.63%\n"
     ]
    },
    {
     "name": "stderr",
     "output_type": "stream",
     "text": [
      "                                                                                             \r"
     ]
    },
    {
     "name": "stdout",
     "output_type": "stream",
     "text": [
      "Epoch 83/100: Loss: 0.1636,            Accuracy: 97.82%\n"
     ]
    },
    {
     "name": "stderr",
     "output_type": "stream",
     "text": [
      "                                                                                             \r"
     ]
    },
    {
     "name": "stdout",
     "output_type": "stream",
     "text": [
      "Epoch 84/100: Loss: 0.1649,            Accuracy: 97.71%\n"
     ]
    },
    {
     "name": "stderr",
     "output_type": "stream",
     "text": [
      "                                                                                             \r"
     ]
    },
    {
     "name": "stdout",
     "output_type": "stream",
     "text": [
      "Epoch 85/100: Loss: 0.1601,            Accuracy: 97.87%\n"
     ]
    },
    {
     "name": "stderr",
     "output_type": "stream",
     "text": [
      "                                                                                             \r"
     ]
    },
    {
     "name": "stdout",
     "output_type": "stream",
     "text": [
      "Epoch 86/100: Loss: 0.1625,            Accuracy: 97.80%\n"
     ]
    },
    {
     "name": "stderr",
     "output_type": "stream",
     "text": [
      "                                                                                             \r"
     ]
    },
    {
     "name": "stdout",
     "output_type": "stream",
     "text": [
      "Epoch 87/100: Loss: 0.1608,            Accuracy: 97.89%\n"
     ]
    },
    {
     "name": "stderr",
     "output_type": "stream",
     "text": [
      "                                                                                             \r"
     ]
    },
    {
     "name": "stdout",
     "output_type": "stream",
     "text": [
      "Epoch 88/100: Loss: 0.1611,            Accuracy: 97.82%\n"
     ]
    },
    {
     "name": "stderr",
     "output_type": "stream",
     "text": [
      "                                                                                             \r"
     ]
    },
    {
     "name": "stdout",
     "output_type": "stream",
     "text": [
      "Epoch 89/100: Loss: 0.1576,            Accuracy: 98.01%\n"
     ]
    },
    {
     "name": "stderr",
     "output_type": "stream",
     "text": [
      "                                                                                             \r"
     ]
    },
    {
     "name": "stdout",
     "output_type": "stream",
     "text": [
      "Epoch 90/100: Loss: 0.1584,            Accuracy: 98.00%\n"
     ]
    },
    {
     "name": "stderr",
     "output_type": "stream",
     "text": [
      "                                                                                             \r"
     ]
    },
    {
     "name": "stdout",
     "output_type": "stream",
     "text": [
      "Epoch 91/100: Loss: 0.1599,            Accuracy: 97.89%\n"
     ]
    },
    {
     "name": "stderr",
     "output_type": "stream",
     "text": [
      "                                                                                             \r"
     ]
    },
    {
     "name": "stdout",
     "output_type": "stream",
     "text": [
      "Epoch 92/100: Loss: 0.1569,            Accuracy: 97.94%\n"
     ]
    },
    {
     "name": "stderr",
     "output_type": "stream",
     "text": [
      "                                                                                             \r"
     ]
    },
    {
     "name": "stdout",
     "output_type": "stream",
     "text": [
      "Epoch 93/100: Loss: 0.1559,            Accuracy: 98.00%\n"
     ]
    },
    {
     "name": "stderr",
     "output_type": "stream",
     "text": [
      "                                                                                             \r"
     ]
    },
    {
     "name": "stdout",
     "output_type": "stream",
     "text": [
      "Epoch 94/100: Loss: 0.1556,            Accuracy: 98.07%\n"
     ]
    },
    {
     "name": "stderr",
     "output_type": "stream",
     "text": [
      "                                                                                             \r"
     ]
    },
    {
     "name": "stdout",
     "output_type": "stream",
     "text": [
      "Epoch 95/100: Loss: 0.1525,            Accuracy: 98.13%\n"
     ]
    },
    {
     "name": "stderr",
     "output_type": "stream",
     "text": [
      "                                                                                             \r"
     ]
    },
    {
     "name": "stdout",
     "output_type": "stream",
     "text": [
      "Epoch 96/100: Loss: 0.1493,            Accuracy: 98.26%\n"
     ]
    },
    {
     "name": "stderr",
     "output_type": "stream",
     "text": [
      "                                                                                             \r"
     ]
    },
    {
     "name": "stdout",
     "output_type": "stream",
     "text": [
      "Epoch 97/100: Loss: 0.1536,            Accuracy: 98.03%\n"
     ]
    },
    {
     "name": "stderr",
     "output_type": "stream",
     "text": [
      "                                                                                             \r"
     ]
    },
    {
     "name": "stdout",
     "output_type": "stream",
     "text": [
      "Epoch 98/100: Loss: 0.1527,            Accuracy: 98.11%\n"
     ]
    },
    {
     "name": "stderr",
     "output_type": "stream",
     "text": [
      "                                                                                             \r"
     ]
    },
    {
     "name": "stdout",
     "output_type": "stream",
     "text": [
      "Epoch 99/100: Loss: 0.1509,            Accuracy: 98.27%\n"
     ]
    },
    {
     "name": "stderr",
     "output_type": "stream",
     "text": [
      "                                                                                              \r"
     ]
    },
    {
     "name": "stdout",
     "output_type": "stream",
     "text": [
      "Epoch 100/100: Loss: 0.1512,            Accuracy: 98.16%\n"
     ]
    }
   ],
   "source": [
    "Student, acc = train_eval_AT(\n",
    "    student=Student,\n",
    "    train_loader=train_loader,\n",
    "    test_loader=test_loader,\n",
    "    epochs=NUM_EPOCHS,\n",
    "    lr=LEARN_RATE,\n",
    "    TEMP=TEMP,\n",
    "    ALPHA=ALPHA,\n",
    "    GAMMA=GAMMAS[0],\n",
    "    device=device,\n",
    "    csv_path=f\"../../../ML/PyTorch_CIFAR10/Histories/Testing/AT_{GAMMAS[0]}.csv\",\n",
    ")"
   ]
  },
  {
   "cell_type": "code",
   "execution_count": 9,
   "id": "d20b4bea-469a-4ce3-abc0-58c44c19bda6",
   "metadata": {},
   "outputs": [
    {
     "name": "stdout",
     "output_type": "stream",
     "text": [
      "Test Acc = 92.14%\n"
     ]
    }
   ],
   "source": [
    "print(f\"Test Acc = {acc:.2f}%\")"
   ]
  },
  {
   "cell_type": "code",
   "execution_count": 10,
   "id": "1a767180-11c4-4e55-b71b-853fd7793f8a",
   "metadata": {},
   "outputs": [],
   "source": [
    "torch.save(Student.state_dict(), \"../saved_models/Student_attention.pt\")"
   ]
  },
  {
   "cell_type": "code",
   "execution_count": 8,
   "id": "a7fa4c6a-ecde-4a15-8ace-c4fbb62d221f",
   "metadata": {},
   "outputs": [],
   "source": [
    "Student.load_state_dict(torch.load(\"../saved_models/Student_attention.pt\", weights_only=True));"
   ]
  },
  {
   "cell_type": "code",
   "execution_count": 9,
   "id": "1d2162c8-2802-4b36-b42a-9dfcb19838ff",
   "metadata": {},
   "outputs": [],
   "source": [
    "teacher_transform = transforms.Compose(\n",
    "    [\n",
    "        transforms.ToTensor(),\n",
    "        transforms.Normalize(\n",
    "            mean=[0.4914, 0.4822, 0.4465], std=[0.2471, 0.2435, 0.2616]\n",
    "        ),\n",
    "    ]\n",
    ")\n",
    "\n",
    "# load student data\n",
    "teacher_data = CIFAR10(\n",
    "    root=\"../../../ML/PyTorch_CIFAR10/data\",\n",
    "    train=False,\n",
    "    download=False,\n",
    "    transform=teacher_transform,\n",
    ")\n",
    "\n",
    "teacher_loader = DataLoader(\n",
    "    teacher_data,\n",
    "    batch_size=BATCH_SIZE,\n",
    "    shuffle=False,\n",
    "    num_workers=NUM_WORKERS,\n",
    "    pin_memory=False,\n",
    "    persistent_workers=True,\n",
    ")"
   ]
  },
  {
   "cell_type": "code",
   "execution_count": 10,
   "id": "93c5e5ea-d283-451f-9f4c-79226edc12ae",
   "metadata": {},
   "outputs": [
    {
     "name": "stderr",
     "output_type": "stream",
     "text": [
      "/Users/davidhernandez/Desktop/Nordling_Lab/KD_IG_Code/Jupyter_notebooks/../PyTorch_CIFAR10/cifar10_models/mobilenetv2.py:138: FutureWarning: You are using `torch.load` with `weights_only=False` (the current default value), which uses the default pickle module implicitly. It is possible to construct malicious pickle data which will execute arbitrary code during unpickling (See https://github.com/pytorch/pytorch/blob/main/SECURITY.md#untrusted-models for more details). In a future release, the default value for `weights_only` will be flipped to `True`. This limits the functions that could be executed during unpickling. Arbitrary objects will no longer be allowed to be loaded via this mode unless they are explicitly allowlisted by the user via `torch.serialization.add_safe_globals`. We recommend you start setting `weights_only=True` for any use case where you don't have full control of the loaded file. Please open an issue on GitHub for any issues related to this experimental feature.\n",
      "  state_dict = torch.load(\n"
     ]
    }
   ],
   "source": [
    "Teacher = mobilenet_v2(pretrained=True)\n",
    "Teacher.to(device);"
   ]
  },
  {
   "cell_type": "markdown",
   "id": "c227d78d",
   "metadata": {},
   "source": [
    "# Testing the Modified Teacher Perfomance"
   ]
  },
  {
   "cell_type": "code",
   "execution_count": 11,
   "id": "b2870569-c1df-41ba-987d-2bb3391d142b",
   "metadata": {},
   "outputs": [
    {
     "name": "stdout",
     "output_type": "stream",
     "text": [
      "Accuracy of the model on the Testing images: 93.91\n"
     ]
    }
   ],
   "source": [
    "test_model(Teacher, teacher_loader, device, 'Testing')"
   ]
  },
  {
   "cell_type": "code",
   "execution_count": 12,
   "id": "2a4dce75-1505-4bc2-8ef4-11eb03dfc931",
   "metadata": {},
   "outputs": [],
   "source": [
    "Teacher_att = ModifiedTeacher(mobilenet_v2(pretrained=True))\n",
    "Teacher_att.to(device);"
   ]
  },
  {
   "cell_type": "code",
   "execution_count": 13,
   "id": "8f6dce32-e154-4395-927d-01b1cc08a15b",
   "metadata": {},
   "outputs": [
    {
     "name": "stdout",
     "output_type": "stream",
     "text": [
      "Accuracy of the model on the Testing images: 93.91 %\n"
     ]
    }
   ],
   "source": [
    "test_model_att(Teacher_att, teacher_loader, device)"
   ]
  },
  {
   "cell_type": "code",
   "execution_count": 14,
   "id": "d19004cf-8b58-4ce9-88f6-cf7e5e3627a2",
   "metadata": {},
   "outputs": [],
   "source": [
    "teacher_aug = transforms.Compose(\n",
    "    [\n",
    "        transforms.RandomCrop(32, padding=4),\n",
    "        transforms.RandomHorizontalFlip(),\n",
    "        transforms.ToTensor(),\n",
    "        transforms.Normalize(\n",
    "            mean=[0.4914, 0.4822, 0.4465], std=[0.2471, 0.2435, 0.2616]\n",
    "        ),\n",
    "    ]\n",
    ")\n",
    "\n",
    "# load student data\n",
    "teacher_train = CIFAR10(\n",
    "    root=\"../../../ML/PyTorch_CIFAR10/data\",\n",
    "    train=True,\n",
    "    download=False,\n",
    "    transform=teacher_aug,\n",
    ")\n",
    "\n",
    "teacher_trainloader = DataLoader(\n",
    "    teacher_train,\n",
    "    batch_size=BATCH_SIZE,\n",
    "    shuffle=False,\n",
    "    num_workers=NUM_WORKERS,\n",
    "    pin_memory=False,\n",
    "    persistent_workers=True,\n",
    ")"
   ]
  },
  {
   "cell_type": "markdown",
   "id": "4ea2600c",
   "metadata": {},
   "source": [
    "# Precomputing the attention maps"
   ]
  },
  {
   "cell_type": "code",
   "execution_count": 20,
   "id": "de6aa693-c905-428c-94fc-8b84e5df5e43",
   "metadata": {},
   "outputs": [
    {
     "name": "stdout",
     "output_type": "stream",
     "text": [
      "(50000, 64)\n"
     ]
    }
   ],
   "source": [
    "Teacher_att.eval()\n",
    "\n",
    "# Initialize a list to hold all attention maps\n",
    "all_attention_maps = []\n",
    "\n",
    "# Loop through the dataset\n",
    "for inputs, _ in teacher_trainloader:\n",
    "    inputs = inputs.to(device)\n",
    "    logits, attention_maps = Teacher_att(inputs)\n",
    "    \n",
    "    # Move attention maps to CPU and convert to numpy\n",
    "    attention_maps_np = attention_maps.detach().cpu().numpy()\n",
    "    all_attention_maps.append(attention_maps_np)\n",
    "\n",
    "# Concatenate all attention maps along the first axis (batch axis)\n",
    "all_attention_maps_np = np.concatenate(all_attention_maps, axis=0)\n",
    "\n",
    "# Save the complete array of attention maps\n",
    "np.save(\"../PyTorch_CIFAR10/data/cifar10_attention_maps.npy\", all_attention_maps_np)\n",
    "print(all_attention_maps_np.shape)"
   ]
  },
  {
   "cell_type": "markdown",
   "id": "cecf18c5",
   "metadata": {},
   "source": [
    "# Comparing Attention maps"
   ]
  },
  {
   "cell_type": "code",
   "execution_count": 15,
   "id": "6849c05b-a016-490a-a9be-27f48a1bfc0a",
   "metadata": {},
   "outputs": [],
   "source": [
    "teacher_attention_maps = {i: None for i in range(10)}\n",
    "student_attention_maps = {i: None for i in range(10)}\n",
    "\n",
    "with torch.no_grad():\n",
    "    for (t_img, _), (s_img, labels) in zip(teacher_loader, test_loader):\n",
    "        t_img, s_img, labels = t_img.to(device), s_img.to(device), labels.to(device)\n",
    "        \n",
    "        # Teacher outputs\n",
    "        t_out, t_at = Teacher_att(t_img)\n",
    "\n",
    "        # Student outputs\n",
    "        s_out, s_at = Student(s_img)\n",
    "\n",
    "        # Iterate over each label and corresponding attention maps in the batch\n",
    "        for label, t_attention_map, s_attention_map in zip(labels, t_at, s_at):\n",
    "            label = label.item()  # Get the scalar value if it's a tensor\n",
    "            if teacher_attention_maps[label] is None:\n",
    "                # Store the teacher's attention map for this class if not already stored\n",
    "                teacher_attention_maps[label] = t_attention_map.cpu().detach()\n",
    "\n",
    "            if student_attention_maps[label] is None:\n",
    "                # Store the student's attention map for this class if not already stored\n",
    "                student_attention_maps[label] = s_attention_map.cpu().detach()\n",
    "\n",
    "        # Optional: Break the loop if all classes have attention maps stored\n",
    "        if all(v is not None for v in teacher_attention_maps.values()) and all(v is not None for v in student_attention_maps.values()):\n",
    "            break"
   ]
  },
  {
   "cell_type": "code",
   "execution_count": 16,
   "id": "d8eb6fe1-cb11-4542-8702-3ee81b9df9f3",
   "metadata": {},
   "outputs": [
    {
     "data": {
      "image/png": "[encoded data removed]",
      "text/plain": [
       "<Figure size 5000x1000 with 20 Axes>"
      ]
     },
     "metadata": {},
     "output_type": "display_data"
    }
   ],
   "source": [
    "class_names = [\"airplane\", \"automobile\", \"bird\", \"cat\", \"deer\", \"dog\", \"frog\", \"horse\", \"ship\", \"truck\"]\n",
    "\n",
    "num_classes = len(teacher_attention_maps)\n",
    "fig, axs = plt.subplots(2, num_classes, figsize=(num_classes * 5, 10))  # Adjust figure size as needed\n",
    "plt.rcParams['font.size'] = 36\n",
    "def reshape_map(att_map):\n",
    "    # Assuming the attention map needs to be square\n",
    "    size = int(np.sqrt(len(att_map)))  # This assumes the map is of size n^2\n",
    "    return att_map.reshape(size, size)\n",
    "\n",
    "for i, (teacher_map, student_map) in enumerate(zip(teacher_attention_maps.values(), student_attention_maps.values())):\n",
    "    if teacher_map is not None and student_map is not None:\n",
    "        # Reshape maps if they are not in the correct shape\n",
    "        if teacher_map.ndim == 1:\n",
    "            teacher_map = reshape_map(teacher_map)\n",
    "        if student_map.ndim == 1:\n",
    "            student_map = reshape_map(student_map)\n",
    "        \n",
    "        # Plot teacher's attention map\n",
    "        ax = axs[0, i]  # Row i, Column 0 for teacher\n",
    "        ax.imshow(teacher_map, cmap='hot')  # Adjust cmap as needed\n",
    "        ax.set_title(f'{class_names[i]}')\n",
    "        ax.axis('off')  # Turn off axis labels\n",
    "\n",
    "        # Plot student's attention map\n",
    "        ax = axs[1, i]  # Row i, Column 1 for student\n",
    "        ax.imshow(student_map, cmap='hot')\n",
    "        # ax.set_title(f'{class_names[i]}')\n",
    "        ax.axis('off')\n",
    "\n",
    "plt.tight_layout()\n",
    "plt.show()"
   ]
  },
  {
   "cell_type": "code",
   "execution_count": 29,
   "id": "199755aa-f412-4dc8-97f4-3cd7954db793",
   "metadata": {},
   "outputs": [
    {
     "data": {
      "image/png": "[encoded data removed]",
      "text/plain": [
       "<Figure size 5500x1000 with 22 Axes>"
      ]
     },
     "metadata": {},
     "output_type": "display_data"
    }
   ],
   "source": [
    "# CIFAR-10 class names\n",
    "class_names = [\"airplane\", \"automobile\", \"bird\", \"cat\", \"deer\", \"dog\", \"frog\", \"horse\", \"ship\", \"truck\"]\n",
    "num_classes = len(teacher_attention_maps)+1\n",
    "fig, axs = plt.subplots(2, num_classes, figsize=(num_classes * 5, 10))  # Adjust figure size as needed\n",
    "plt.rcParams['font.size'] = 48\n",
    "plt.rcParams['font.family'] = 'Times New Roman'\n",
    "def reshape_map(att_map):\n",
    "    # Assuming the attention map needs to be square\n",
    "    size = int(np.sqrt(len(att_map)))  # This assumes the map is of size n^2\n",
    "    return att_map.reshape(size, size)\n",
    "\n",
    "def compute_mse(map1, map2):\n",
    "    # Assuming maps are already tensors or converting numpy arrays to tensors\n",
    "    if isinstance(map1, np.ndarray):\n",
    "        map1 = torch.tensor(map1)\n",
    "    if isinstance(map2, np.ndarray):\n",
    "        map2 = torch.tensor(map2)\n",
    "    return attention_loss(map1, map2)\n",
    "\n",
    "for i, (teacher_map, student_map) in enumerate(zip(teacher_attention_maps.values(), student_attention_maps.values())):\n",
    "    if teacher_map is not None and student_map is not None:\n",
    "        # Reshape maps if they are not in the correct shape\n",
    "        if teacher_map.ndim == 1:\n",
    "            teacher_map = reshape_map(teacher_map)\n",
    "        if student_map.ndim == 1:\n",
    "            student_map = reshape_map(student_map)\n",
    "\n",
    "        # Compute MSE\n",
    "        mse = compute_mse(teacher_map, student_map)\n",
    "        \n",
    "        # Plot teacher's attention map\n",
    "        ax = axs[0, i+1]  # Row i, Column 0 for teacher\n",
    "        ax.imshow(teacher_map, cmap='hot')  # Adjust cmap as needed\n",
    "        ax.set_title(f'{class_names[i]}')\n",
    "        ax.axis('off')  # Turn off axis labels\n",
    "\n",
    "        # Plot student's attention map\n",
    "        ax = axs[1, i+1]  # Row i, Column 1 for student\n",
    "        ax.imshow(student_map, cmap='hot')\n",
    "        # ax.set_title(f'{class_names[i]}')\n",
    "        ax.axis('off')\n",
    "\n",
    "        # Print MSE below the plots\n",
    "        axs[1, i+1].text(0.5, -0.2, f'MSE: {mse:.4f}', transform=axs[1, i+1].transAxes, ha='center', fontsize=50, color='black')\n",
    "        \n",
    "axs[0, 0].text(0.8, 0.5, 'Teacher', transform=axs[0,0].transAxes, ha='center', fontsize=64, color='black')\n",
    "axs[1, 0].text(0.8, 0.5, 'Student', transform=axs[1,0].transAxes, ha='center', fontsize=64, color='black')\n",
    "ax = axs[0,0]\n",
    "ax.axis('off')\n",
    "ax = axs[1,0]\n",
    "ax.axis('off')\n",
    "\n",
    "plt.tight_layout()\n",
    "plt.savefig('Attention_test.pdf')\n",
    "plt.show()"
   ]
  }
 ],
 "metadata": {
  "kernelspec": {
   "display_name": "torchm1",
   "language": "python",
   "name": "python3"
  },
  "language_info": {
   "codemirror_mode": {
    "name": "ipython",
    "version": 3
   },
   "file_extension": ".py",
   "mimetype": "text/x-python",
   "name": "python",
   "nbconvert_exporter": "python",
   "pygments_lexer": "ipython3",
   "version": "3.12.7"
  }
 },
 "nbformat": 4,
 "nbformat_minor": 5
}
